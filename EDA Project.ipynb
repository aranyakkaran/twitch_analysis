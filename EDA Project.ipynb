{
 "cells": [
  {
   "cell_type": "code",
   "execution_count": 2,
   "id": "0c05779d",
   "metadata": {},
   "outputs": [],
   "source": [
    "import pandas as pd\n",
    "import numpy as np\n",
    "import os\n",
    "import seaborn as sns\n",
    "import matplotlib.pyplot as plt\n",
    "from scipy import stats\n",
    "df=pd.read_csv(\"twitchdata-update.csv\")"
   ]
  },
  {
   "cell_type": "code",
   "execution_count": 2,
   "id": "836b6171",
   "metadata": {
    "scrolled": true
   },
   "outputs": [
    {
     "data": {
      "text/html": [
       "<div>\n",
       "<style scoped>\n",
       "    .dataframe tbody tr th:only-of-type {\n",
       "        vertical-align: middle;\n",
       "    }\n",
       "\n",
       "    .dataframe tbody tr th {\n",
       "        vertical-align: top;\n",
       "    }\n",
       "\n",
       "    .dataframe thead th {\n",
       "        text-align: right;\n",
       "    }\n",
       "</style>\n",
       "<table border=\"1\" class=\"dataframe\">\n",
       "  <thead>\n",
       "    <tr style=\"text-align: right;\">\n",
       "      <th></th>\n",
       "      <th>Channel</th>\n",
       "      <th>Watch time(Minutes)</th>\n",
       "      <th>Stream time(minutes)</th>\n",
       "      <th>Peak viewers</th>\n",
       "      <th>Average viewers</th>\n",
       "      <th>Followers</th>\n",
       "      <th>Followers gained</th>\n",
       "      <th>Views gained</th>\n",
       "      <th>Partnered</th>\n",
       "      <th>Mature</th>\n",
       "      <th>Language</th>\n",
       "    </tr>\n",
       "  </thead>\n",
       "  <tbody>\n",
       "    <tr>\n",
       "      <th>0</th>\n",
       "      <td>xQcOW</td>\n",
       "      <td>6196161750</td>\n",
       "      <td>215250</td>\n",
       "      <td>222720</td>\n",
       "      <td>27716</td>\n",
       "      <td>3246298</td>\n",
       "      <td>1734810</td>\n",
       "      <td>93036735</td>\n",
       "      <td>True</td>\n",
       "      <td>False</td>\n",
       "      <td>English</td>\n",
       "    </tr>\n",
       "    <tr>\n",
       "      <th>1</th>\n",
       "      <td>summit1g</td>\n",
       "      <td>6091677300</td>\n",
       "      <td>211845</td>\n",
       "      <td>310998</td>\n",
       "      <td>25610</td>\n",
       "      <td>5310163</td>\n",
       "      <td>1370184</td>\n",
       "      <td>89705964</td>\n",
       "      <td>True</td>\n",
       "      <td>False</td>\n",
       "      <td>English</td>\n",
       "    </tr>\n",
       "    <tr>\n",
       "      <th>2</th>\n",
       "      <td>Gaules</td>\n",
       "      <td>5644590915</td>\n",
       "      <td>515280</td>\n",
       "      <td>387315</td>\n",
       "      <td>10976</td>\n",
       "      <td>1767635</td>\n",
       "      <td>1023779</td>\n",
       "      <td>102611607</td>\n",
       "      <td>True</td>\n",
       "      <td>True</td>\n",
       "      <td>Portuguese</td>\n",
       "    </tr>\n",
       "    <tr>\n",
       "      <th>3</th>\n",
       "      <td>ESL_CSGO</td>\n",
       "      <td>3970318140</td>\n",
       "      <td>517740</td>\n",
       "      <td>300575</td>\n",
       "      <td>7714</td>\n",
       "      <td>3944850</td>\n",
       "      <td>703986</td>\n",
       "      <td>106546942</td>\n",
       "      <td>True</td>\n",
       "      <td>False</td>\n",
       "      <td>English</td>\n",
       "    </tr>\n",
       "    <tr>\n",
       "      <th>4</th>\n",
       "      <td>Tfue</td>\n",
       "      <td>3671000070</td>\n",
       "      <td>123660</td>\n",
       "      <td>285644</td>\n",
       "      <td>29602</td>\n",
       "      <td>8938903</td>\n",
       "      <td>2068424</td>\n",
       "      <td>78998587</td>\n",
       "      <td>True</td>\n",
       "      <td>False</td>\n",
       "      <td>English</td>\n",
       "    </tr>\n",
       "  </tbody>\n",
       "</table>\n",
       "</div>"
      ],
      "text/plain": [
       "    Channel  Watch time(Minutes)  Stream time(minutes)  Peak viewers  \\\n",
       "0     xQcOW           6196161750                215250        222720   \n",
       "1  summit1g           6091677300                211845        310998   \n",
       "2    Gaules           5644590915                515280        387315   \n",
       "3  ESL_CSGO           3970318140                517740        300575   \n",
       "4      Tfue           3671000070                123660        285644   \n",
       "\n",
       "   Average viewers  Followers  Followers gained  Views gained  Partnered  \\\n",
       "0            27716    3246298           1734810      93036735       True   \n",
       "1            25610    5310163           1370184      89705964       True   \n",
       "2            10976    1767635           1023779     102611607       True   \n",
       "3             7714    3944850            703986     106546942       True   \n",
       "4            29602    8938903           2068424      78998587       True   \n",
       "\n",
       "   Mature    Language  \n",
       "0   False     English  \n",
       "1   False     English  \n",
       "2    True  Portuguese  \n",
       "3   False     English  \n",
       "4   False     English  "
      ]
     },
     "execution_count": 2,
     "metadata": {},
     "output_type": "execute_result"
    }
   ],
   "source": [
    "df.head()"
   ]
  },
  {
   "cell_type": "code",
   "execution_count": 3,
   "id": "d53ba0b3",
   "metadata": {},
   "outputs": [
    {
     "data": {
      "text/plain": [
       "(1000, 11)"
      ]
     },
     "execution_count": 3,
     "metadata": {},
     "output_type": "execute_result"
    }
   ],
   "source": [
    "df.shape"
   ]
  },
  {
   "cell_type": "code",
   "execution_count": 4,
   "id": "9af7f9ee",
   "metadata": {
    "scrolled": true
   },
   "outputs": [
    {
     "name": "stdout",
     "output_type": "stream",
     "text": [
      "<class 'pandas.core.frame.DataFrame'>\n",
      "RangeIndex: 1000 entries, 0 to 999\n",
      "Data columns (total 11 columns):\n",
      " #   Column                Non-Null Count  Dtype \n",
      "---  ------                --------------  ----- \n",
      " 0   Channel               1000 non-null   object\n",
      " 1   Watch time(Minutes)   1000 non-null   int64 \n",
      " 2   Stream time(minutes)  1000 non-null   int64 \n",
      " 3   Peak viewers          1000 non-null   int64 \n",
      " 4   Average viewers       1000 non-null   int64 \n",
      " 5   Followers             1000 non-null   int64 \n",
      " 6   Followers gained      1000 non-null   int64 \n",
      " 7   Views gained          1000 non-null   int64 \n",
      " 8   Partnered             1000 non-null   bool  \n",
      " 9   Mature                1000 non-null   bool  \n",
      " 10  Language              1000 non-null   object\n",
      "dtypes: bool(2), int64(7), object(2)\n",
      "memory usage: 72.4+ KB\n"
     ]
    }
   ],
   "source": [
    "df.info()"
   ]
  },
  {
   "cell_type": "code",
   "execution_count": 145,
   "id": "fde533c8",
   "metadata": {},
   "outputs": [
    {
     "data": {
      "text/html": [
       "<div>\n",
       "<style scoped>\n",
       "    .dataframe tbody tr th:only-of-type {\n",
       "        vertical-align: middle;\n",
       "    }\n",
       "\n",
       "    .dataframe tbody tr th {\n",
       "        vertical-align: top;\n",
       "    }\n",
       "\n",
       "    .dataframe thead th {\n",
       "        text-align: right;\n",
       "    }\n",
       "</style>\n",
       "<table border=\"1\" class=\"dataframe\">\n",
       "  <thead>\n",
       "    <tr style=\"text-align: right;\">\n",
       "      <th></th>\n",
       "      <th>Watch time(Minutes)</th>\n",
       "      <th>Stream time(minutes)</th>\n",
       "      <th>Peak viewers</th>\n",
       "      <th>Average viewers</th>\n",
       "      <th>Followers</th>\n",
       "      <th>Followers gained</th>\n",
       "      <th>Views gained</th>\n",
       "    </tr>\n",
       "  </thead>\n",
       "  <tbody>\n",
       "    <tr>\n",
       "      <th>count</th>\n",
       "      <td>9.970000e+02</td>\n",
       "      <td>997.000000</td>\n",
       "      <td>997.000000</td>\n",
       "      <td>997.000000</td>\n",
       "      <td>9.970000e+02</td>\n",
       "      <td>9.970000e+02</td>\n",
       "      <td>9.970000e+02</td>\n",
       "    </tr>\n",
       "    <tr>\n",
       "      <th>mean</th>\n",
       "      <td>4.145396e+08</td>\n",
       "      <td>120716.915747</td>\n",
       "      <td>36164.158475</td>\n",
       "      <td>4501.685055</td>\n",
       "      <td>5.700505e+05</td>\n",
       "      <td>2.054796e+05</td>\n",
       "      <td>1.100274e+07</td>\n",
       "    </tr>\n",
       "    <tr>\n",
       "      <th>std</th>\n",
       "      <td>5.423376e+08</td>\n",
       "      <td>85346.601374</td>\n",
       "      <td>57181.413783</td>\n",
       "      <td>6008.184833</td>\n",
       "      <td>8.056157e+05</td>\n",
       "      <td>3.403296e+05</td>\n",
       "      <td>1.365196e+07</td>\n",
       "    </tr>\n",
       "    <tr>\n",
       "      <th>min</th>\n",
       "      <td>1.221928e+08</td>\n",
       "      <td>3465.000000</td>\n",
       "      <td>496.000000</td>\n",
       "      <td>235.000000</td>\n",
       "      <td>3.660000e+03</td>\n",
       "      <td>-1.577200e+04</td>\n",
       "      <td>1.757880e+05</td>\n",
       "    </tr>\n",
       "    <tr>\n",
       "      <th>25%</th>\n",
       "      <td>1.631328e+08</td>\n",
       "      <td>73935.000000</td>\n",
       "      <td>9110.000000</td>\n",
       "      <td>1457.000000</td>\n",
       "      <td>1.701810e+05</td>\n",
       "      <td>4.342600e+04</td>\n",
       "      <td>3.880016e+06</td>\n",
       "    </tr>\n",
       "    <tr>\n",
       "      <th>50%</th>\n",
       "      <td>2.343077e+08</td>\n",
       "      <td>108375.000000</td>\n",
       "      <td>16622.000000</td>\n",
       "      <td>2413.000000</td>\n",
       "      <td>3.171250e+05</td>\n",
       "      <td>9.769600e+04</td>\n",
       "      <td>6.445996e+06</td>\n",
       "    </tr>\n",
       "    <tr>\n",
       "      <th>75%</th>\n",
       "      <td>4.282792e+08</td>\n",
       "      <td>141705.000000</td>\n",
       "      <td>37216.000000</td>\n",
       "      <td>4714.000000</td>\n",
       "      <td>6.223580e+05</td>\n",
       "      <td>2.361180e+05</td>\n",
       "      <td>1.208972e+07</td>\n",
       "    </tr>\n",
       "    <tr>\n",
       "      <th>max</th>\n",
       "      <td>6.196162e+09</td>\n",
       "      <td>521445.000000</td>\n",
       "      <td>639375.000000</td>\n",
       "      <td>53986.000000</td>\n",
       "      <td>8.938903e+06</td>\n",
       "      <td>3.966525e+06</td>\n",
       "      <td>1.153130e+08</td>\n",
       "    </tr>\n",
       "  </tbody>\n",
       "</table>\n",
       "</div>"
      ],
      "text/plain": [
       "       Watch time(Minutes)  Stream time(minutes)   Peak viewers  \\\n",
       "count         9.970000e+02            997.000000     997.000000   \n",
       "mean          4.145396e+08         120716.915747   36164.158475   \n",
       "std           5.423376e+08          85346.601374   57181.413783   \n",
       "min           1.221928e+08           3465.000000     496.000000   \n",
       "25%           1.631328e+08          73935.000000    9110.000000   \n",
       "50%           2.343077e+08         108375.000000   16622.000000   \n",
       "75%           4.282792e+08         141705.000000   37216.000000   \n",
       "max           6.196162e+09         521445.000000  639375.000000   \n",
       "\n",
       "       Average viewers     Followers  Followers gained  Views gained  \n",
       "count       997.000000  9.970000e+02      9.970000e+02  9.970000e+02  \n",
       "mean       4501.685055  5.700505e+05      2.054796e+05  1.100274e+07  \n",
       "std        6008.184833  8.056157e+05      3.403296e+05  1.365196e+07  \n",
       "min         235.000000  3.660000e+03     -1.577200e+04  1.757880e+05  \n",
       "25%        1457.000000  1.701810e+05      4.342600e+04  3.880016e+06  \n",
       "50%        2413.000000  3.171250e+05      9.769600e+04  6.445996e+06  \n",
       "75%        4714.000000  6.223580e+05      2.361180e+05  1.208972e+07  \n",
       "max       53986.000000  8.938903e+06      3.966525e+06  1.153130e+08  "
      ]
     },
     "execution_count": 145,
     "metadata": {},
     "output_type": "execute_result"
    }
   ],
   "source": [
    "df.describe()"
   ]
  },
  {
   "cell_type": "code",
   "execution_count": 3,
   "id": "991f2cc7",
   "metadata": {
    "scrolled": false
   },
   "outputs": [
    {
     "data": {
      "text/plain": [
       "Channel                 0\n",
       "Watch time(Minutes)     0\n",
       "Stream time(minutes)    0\n",
       "Peak viewers            0\n",
       "Average viewers         0\n",
       "Followers               0\n",
       "Followers gained        0\n",
       "Views gained            0\n",
       "Partnered               0\n",
       "Mature                  0\n",
       "Language                0\n",
       "dtype: int64"
      ]
     },
     "execution_count": 3,
     "metadata": {},
     "output_type": "execute_result"
    }
   ],
   "source": [
    "df.isnull().sum()"
   ]
  },
  {
   "cell_type": "code",
   "execution_count": 3,
   "id": "3cb2b2a4",
   "metadata": {},
   "outputs": [
    {
     "name": "stdout",
     "output_type": "stream",
     "text": [
      "                      Watch time(Minutes)  Stream time(minutes)  Peak viewers  \\\n",
      "Watch time(Minutes)              1.000000              0.150588      0.582797   \n",
      "Stream time(minutes)             0.150588              1.000000     -0.119540   \n",
      "Peak viewers                     0.582797             -0.119540      1.000000   \n",
      "Average viewers                  0.476165             -0.249248      0.682637   \n",
      "Followers                        0.620234             -0.091299      0.532529   \n",
      "Followers gained                 0.514648             -0.158165      0.470415   \n",
      "Views gained                     0.529862              0.064370      0.298063   \n",
      "Partnered                        0.038258             -0.007073      0.028112   \n",
      "Mature                          -0.043197              0.044978     -0.082750   \n",
      "\n",
      "                      Average viewers  Followers  Followers gained  \\\n",
      "Watch time(Minutes)          0.476165   0.620234          0.514648   \n",
      "Stream time(minutes)        -0.249248  -0.091299         -0.158165   \n",
      "Peak viewers                 0.682637   0.532529          0.470415   \n",
      "Average viewers              1.000000   0.428303          0.420097   \n",
      "Followers                    0.428303   1.000000          0.715618   \n",
      "Followers gained             0.420097   0.715618          1.000000   \n",
      "Views gained                 0.250349   0.276467          0.244297   \n",
      "Partnered                   -0.008983   0.044418          0.027465   \n",
      "Mature                      -0.081648  -0.088521         -0.093001   \n",
      "\n",
      "                      Views gained  Partnered    Mature  \n",
      "Watch time(Minutes)       0.529862   0.038258 -0.043197  \n",
      "Stream time(minutes)      0.064370  -0.007073  0.044978  \n",
      "Peak viewers              0.298063   0.028112 -0.082750  \n",
      "Average viewers           0.250349  -0.008983 -0.081648  \n",
      "Followers                 0.276467   0.044418 -0.088521  \n",
      "Followers gained          0.244297   0.027465 -0.093001  \n",
      "Views gained              1.000000  -0.035313 -0.088119  \n",
      "Partnered                -0.035313   1.000000  0.000972  \n",
      "Mature                   -0.088119   0.000972  1.000000  \n"
     ]
    }
   ],
   "source": [
    "print(df.corr())"
   ]
  },
  {
   "cell_type": "code",
   "execution_count": 146,
   "id": "27b730da",
   "metadata": {},
   "outputs": [
    {
     "data": {
      "text/plain": [
       "<AxesSubplot:>"
      ]
     },
     "execution_count": 146,
     "metadata": {},
     "output_type": "execute_result"
    },
    {
     "data": {
      "image/png": "[encoded data removed]",
      "text/plain": [
       "<Figure size 1080x1080 with 2 Axes>"
      ]
     },
     "metadata": {
      "needs_background": "light"
     },
     "output_type": "display_data"
    }
   ],
   "source": [
    "plt.figure(figsize=(15,15))\n",
    "correlation=df.corr()\n",
    "sns.heatmap(correlation,annot=True, cmap='coolwarm')"
   ]
  },
  {
   "cell_type": "code",
   "execution_count": 83,
   "id": "2e47c282",
   "metadata": {
    "scrolled": false
   },
   "outputs": [
    {
     "data": {
      "text/plain": [
       "(array([745., 135.,  43.,  27.,  22.,   8.,   3.,   3.,   4.,   2.,   1.,\n",
       "          2.,   1.,   0.,   0.,   0.,   0.,   0.,   1.,   2.]),\n",
       " array([1.22192850e+08, 4.25891295e+08, 7.29589740e+08, 1.03328818e+09,\n",
       "        1.33698663e+09, 1.64068508e+09, 1.94438352e+09, 2.24808196e+09,\n",
       "        2.55178041e+09, 2.85547886e+09, 3.15917730e+09, 3.46287574e+09,\n",
       "        3.76657419e+09, 4.07027264e+09, 4.37397108e+09, 4.67766952e+09,\n",
       "        4.98136797e+09, 5.28506642e+09, 5.58876486e+09, 5.89246330e+09,\n",
       "        6.19616175e+09]),\n",
       " <BarContainer object of 20 artists>)"
      ]
     },
     "execution_count": 83,
     "metadata": {},
     "output_type": "execute_result"
    },
    {
     "data": {
      "image/png": "[encoded data removed]",
      "text/plain": [
       "<Figure size 432x288 with 1 Axes>"
      ]
     },
     "metadata": {
      "needs_background": "light"
     },
     "output_type": "display_data"
    }
   ],
   "source": [
    "plt.hist(df['Watch time(Minutes)'], edgecolor='black', bins=20)"
   ]
  },
  {
   "cell_type": "code",
   "execution_count": 84,
   "id": "3f39f0f7",
   "metadata": {},
   "outputs": [
    {
     "name": "stderr",
     "output_type": "stream",
     "text": [
      "D:\\anaconda3\\lib\\site-packages\\seaborn\\_decorators.py:36: FutureWarning: Pass the following variable as a keyword arg: x. From version 0.12, the only valid positional argument will be `data`, and passing other arguments without an explicit keyword will result in an error or misinterpretation.\n",
      "  warnings.warn(\n"
     ]
    },
    {
     "data": {
      "text/plain": [
       "<AxesSubplot:xlabel='Watch time(Minutes)'>"
      ]
     },
     "execution_count": 84,
     "metadata": {},
     "output_type": "execute_result"
    },
    {
     "data": {
      "image/png": "[encoded data removed]",
      "text/plain": [
       "<Figure size 432x288 with 1 Axes>"
      ]
     },
     "metadata": {
      "needs_background": "light"
     },
     "output_type": "display_data"
    }
   ],
   "source": [
    "sns.boxplot(df['Watch time(Minutes)'])"
   ]
  },
  {
   "cell_type": "code",
   "execution_count": 78,
   "id": "03e9a53a",
   "metadata": {},
   "outputs": [
    {
     "data": {
      "text/plain": [
       "0.50    2.347261e+08\n",
       "0.75    4.312714e+08\n",
       "0.95    1.325130e+09\n",
       "0.99    2.832960e+09\n",
       "Name: Watch time(Minutes), dtype: float64"
      ]
     },
     "execution_count": 78,
     "metadata": {},
     "output_type": "execute_result"
    }
   ],
   "source": [
    "df['Watch time(Minutes)'].quantile([.5,.75,.95,.99])"
   ]
  },
  {
   "cell_type": "code",
   "execution_count": 123,
   "id": "a1b6b485",
   "metadata": {},
   "outputs": [
    {
     "data": {
      "text/html": [
       "<div>\n",
       "<style scoped>\n",
       "    .dataframe tbody tr th:only-of-type {\n",
       "        vertical-align: middle;\n",
       "    }\n",
       "\n",
       "    .dataframe tbody tr th {\n",
       "        vertical-align: top;\n",
       "    }\n",
       "\n",
       "    .dataframe thead th {\n",
       "        text-align: right;\n",
       "    }\n",
       "</style>\n",
       "<table border=\"1\" class=\"dataframe\">\n",
       "  <thead>\n",
       "    <tr style=\"text-align: right;\">\n",
       "      <th></th>\n",
       "      <th>Watch time(Minutes)</th>\n",
       "      <th>Stream time(minutes)</th>\n",
       "      <th>Peak viewers</th>\n",
       "      <th>Average viewers</th>\n",
       "      <th>Followers</th>\n",
       "      <th>Followers gained</th>\n",
       "      <th>Views gained</th>\n",
       "    </tr>\n",
       "  </thead>\n",
       "  <tbody>\n",
       "    <tr>\n",
       "      <th>count</th>\n",
       "      <td>8.200000e+02</td>\n",
       "      <td>820.000000</td>\n",
       "      <td>820.000000</td>\n",
       "      <td>820.000000</td>\n",
       "      <td>8.200000e+02</td>\n",
       "      <td>8.200000e+02</td>\n",
       "      <td>8.200000e+02</td>\n",
       "    </tr>\n",
       "    <tr>\n",
       "      <th>mean</th>\n",
       "      <td>4.749675e+08</td>\n",
       "      <td>123944.560976</td>\n",
       "      <td>40523.941463</td>\n",
       "      <td>4997.830488</td>\n",
       "      <td>6.352328e+05</td>\n",
       "      <td>2.268066e+05</td>\n",
       "      <td>1.229665e+07</td>\n",
       "    </tr>\n",
       "    <tr>\n",
       "      <th>std</th>\n",
       "      <td>5.805933e+08</td>\n",
       "      <td>86883.955317</td>\n",
       "      <td>61544.332973</td>\n",
       "      <td>6324.429759</td>\n",
       "      <td>8.653455e+05</td>\n",
       "      <td>3.668331e+05</td>\n",
       "      <td>1.424602e+07</td>\n",
       "    </tr>\n",
       "    <tr>\n",
       "      <th>min</th>\n",
       "      <td>1.501503e+08</td>\n",
       "      <td>6135.000000</td>\n",
       "      <td>1182.000000</td>\n",
       "      <td>313.000000</td>\n",
       "      <td>3.660000e+03</td>\n",
       "      <td>-1.577200e+04</td>\n",
       "      <td>1.757880e+05</td>\n",
       "    </tr>\n",
       "    <tr>\n",
       "      <th>25%</th>\n",
       "      <td>1.951930e+08</td>\n",
       "      <td>76530.000000</td>\n",
       "      <td>10439.000000</td>\n",
       "      <td>1696.750000</td>\n",
       "      <td>1.952870e+05</td>\n",
       "      <td>4.837375e+04</td>\n",
       "      <td>4.750506e+06</td>\n",
       "    </tr>\n",
       "    <tr>\n",
       "      <th>50%</th>\n",
       "      <td>2.839171e+08</td>\n",
       "      <td>110895.000000</td>\n",
       "      <td>19228.000000</td>\n",
       "      <td>2775.500000</td>\n",
       "      <td>3.585520e+05</td>\n",
       "      <td>1.119235e+05</td>\n",
       "      <td>7.492743e+06</td>\n",
       "    </tr>\n",
       "    <tr>\n",
       "      <th>75%</th>\n",
       "      <td>5.160355e+08</td>\n",
       "      <td>145871.250000</td>\n",
       "      <td>43078.500000</td>\n",
       "      <td>5311.500000</td>\n",
       "      <td>7.268122e+05</td>\n",
       "      <td>2.508828e+05</td>\n",
       "      <td>1.355770e+07</td>\n",
       "    </tr>\n",
       "    <tr>\n",
       "      <th>max</th>\n",
       "      <td>6.196162e+09</td>\n",
       "      <td>521445.000000</td>\n",
       "      <td>639375.000000</td>\n",
       "      <td>53986.000000</td>\n",
       "      <td>8.938903e+06</td>\n",
       "      <td>3.966525e+06</td>\n",
       "      <td>1.153130e+08</td>\n",
       "    </tr>\n",
       "  </tbody>\n",
       "</table>\n",
       "</div>"
      ],
      "text/plain": [
       "       Watch time(Minutes)  Stream time(minutes)   Peak viewers  \\\n",
       "count         8.200000e+02            820.000000     820.000000   \n",
       "mean          4.749675e+08         123944.560976   40523.941463   \n",
       "std           5.805933e+08          86883.955317   61544.332973   \n",
       "min           1.501503e+08           6135.000000    1182.000000   \n",
       "25%           1.951930e+08          76530.000000   10439.000000   \n",
       "50%           2.839171e+08         110895.000000   19228.000000   \n",
       "75%           5.160355e+08         145871.250000   43078.500000   \n",
       "max           6.196162e+09         521445.000000  639375.000000   \n",
       "\n",
       "       Average viewers     Followers  Followers gained  Views gained  \n",
       "count       820.000000  8.200000e+02      8.200000e+02  8.200000e+02  \n",
       "mean       4997.830488  6.352328e+05      2.268066e+05  1.229665e+07  \n",
       "std        6324.429759  8.653455e+05      3.668331e+05  1.424602e+07  \n",
       "min         313.000000  3.660000e+03     -1.577200e+04  1.757880e+05  \n",
       "25%        1696.750000  1.952870e+05      4.837375e+04  4.750506e+06  \n",
       "50%        2775.500000  3.585520e+05      1.119235e+05  7.492743e+06  \n",
       "75%        5311.500000  7.268122e+05      2.508828e+05  1.355770e+07  \n",
       "max       53986.000000  8.938903e+06      3.966525e+06  1.153130e+08  "
      ]
     },
     "execution_count": 123,
     "metadata": {},
     "output_type": "execute_result"
    }
   ],
   "source": [
    "df[df['Watch time(Minutes)']>150000000].describe()"
   ]
  },
  {
   "cell_type": "code",
   "execution_count": 82,
   "id": "a9fe357f",
   "metadata": {},
   "outputs": [
    {
     "data": {
      "text/html": [
       "<div>\n",
       "<style scoped>\n",
       "    .dataframe tbody tr th:only-of-type {\n",
       "        vertical-align: middle;\n",
       "    }\n",
       "\n",
       "    .dataframe tbody tr th {\n",
       "        vertical-align: top;\n",
       "    }\n",
       "\n",
       "    .dataframe thead th {\n",
       "        text-align: right;\n",
       "    }\n",
       "</style>\n",
       "<table border=\"1\" class=\"dataframe\">\n",
       "  <thead>\n",
       "    <tr style=\"text-align: right;\">\n",
       "      <th></th>\n",
       "      <th>Channel</th>\n",
       "      <th>Watch time(Minutes)</th>\n",
       "      <th>Stream time(minutes)</th>\n",
       "      <th>Peak viewers</th>\n",
       "      <th>Average viewers</th>\n",
       "      <th>Followers</th>\n",
       "      <th>Followers gained</th>\n",
       "      <th>Views gained</th>\n",
       "      <th>Partnered</th>\n",
       "      <th>Mature</th>\n",
       "      <th>Language</th>\n",
       "    </tr>\n",
       "  </thead>\n",
       "  <tbody>\n",
       "    <tr>\n",
       "      <th>0</th>\n",
       "      <td>xQcOW</td>\n",
       "      <td>6196161750</td>\n",
       "      <td>215250</td>\n",
       "      <td>222720</td>\n",
       "      <td>27716</td>\n",
       "      <td>3246298</td>\n",
       "      <td>1734810</td>\n",
       "      <td>93036735</td>\n",
       "      <td>True</td>\n",
       "      <td>False</td>\n",
       "      <td>English</td>\n",
       "    </tr>\n",
       "    <tr>\n",
       "      <th>1</th>\n",
       "      <td>summit1g</td>\n",
       "      <td>6091677300</td>\n",
       "      <td>211845</td>\n",
       "      <td>310998</td>\n",
       "      <td>25610</td>\n",
       "      <td>5310163</td>\n",
       "      <td>1370184</td>\n",
       "      <td>89705964</td>\n",
       "      <td>True</td>\n",
       "      <td>False</td>\n",
       "      <td>English</td>\n",
       "    </tr>\n",
       "    <tr>\n",
       "      <th>2</th>\n",
       "      <td>Gaules</td>\n",
       "      <td>5644590915</td>\n",
       "      <td>515280</td>\n",
       "      <td>387315</td>\n",
       "      <td>10976</td>\n",
       "      <td>1767635</td>\n",
       "      <td>1023779</td>\n",
       "      <td>102611607</td>\n",
       "      <td>True</td>\n",
       "      <td>True</td>\n",
       "      <td>Portuguese</td>\n",
       "    </tr>\n",
       "    <tr>\n",
       "      <th>3</th>\n",
       "      <td>ESL_CSGO</td>\n",
       "      <td>3970318140</td>\n",
       "      <td>517740</td>\n",
       "      <td>300575</td>\n",
       "      <td>7714</td>\n",
       "      <td>3944850</td>\n",
       "      <td>703986</td>\n",
       "      <td>106546942</td>\n",
       "      <td>True</td>\n",
       "      <td>False</td>\n",
       "      <td>English</td>\n",
       "    </tr>\n",
       "    <tr>\n",
       "      <th>4</th>\n",
       "      <td>Tfue</td>\n",
       "      <td>3671000070</td>\n",
       "      <td>123660</td>\n",
       "      <td>285644</td>\n",
       "      <td>29602</td>\n",
       "      <td>8938903</td>\n",
       "      <td>2068424</td>\n",
       "      <td>78998587</td>\n",
       "      <td>True</td>\n",
       "      <td>False</td>\n",
       "      <td>English</td>\n",
       "    </tr>\n",
       "    <tr>\n",
       "      <th>5</th>\n",
       "      <td>Asmongold</td>\n",
       "      <td>3668799075</td>\n",
       "      <td>82260</td>\n",
       "      <td>263720</td>\n",
       "      <td>42414</td>\n",
       "      <td>1563438</td>\n",
       "      <td>554201</td>\n",
       "      <td>61715781</td>\n",
       "      <td>True</td>\n",
       "      <td>False</td>\n",
       "      <td>English</td>\n",
       "    </tr>\n",
       "    <tr>\n",
       "      <th>6</th>\n",
       "      <td>NICKMERCS</td>\n",
       "      <td>3360675195</td>\n",
       "      <td>136275</td>\n",
       "      <td>115633</td>\n",
       "      <td>24181</td>\n",
       "      <td>4074287</td>\n",
       "      <td>1089824</td>\n",
       "      <td>46084211</td>\n",
       "      <td>True</td>\n",
       "      <td>False</td>\n",
       "      <td>English</td>\n",
       "    </tr>\n",
       "    <tr>\n",
       "      <th>8</th>\n",
       "      <td>loltyler1</td>\n",
       "      <td>2928356940</td>\n",
       "      <td>122490</td>\n",
       "      <td>89387</td>\n",
       "      <td>22381</td>\n",
       "      <td>3530767</td>\n",
       "      <td>951730</td>\n",
       "      <td>51349926</td>\n",
       "      <td>True</td>\n",
       "      <td>False</td>\n",
       "      <td>English</td>\n",
       "    </tr>\n",
       "    <tr>\n",
       "      <th>9</th>\n",
       "      <td>Anomaly</td>\n",
       "      <td>2865429915</td>\n",
       "      <td>92880</td>\n",
       "      <td>125408</td>\n",
       "      <td>12377</td>\n",
       "      <td>2607076</td>\n",
       "      <td>1532689</td>\n",
       "      <td>36350662</td>\n",
       "      <td>True</td>\n",
       "      <td>False</td>\n",
       "      <td>English</td>\n",
       "    </tr>\n",
       "    <tr>\n",
       "      <th>10</th>\n",
       "      <td>TimTheTatman</td>\n",
       "      <td>2834436990</td>\n",
       "      <td>108780</td>\n",
       "      <td>142067</td>\n",
       "      <td>25664</td>\n",
       "      <td>5265659</td>\n",
       "      <td>1244341</td>\n",
       "      <td>50119786</td>\n",
       "      <td>True</td>\n",
       "      <td>True</td>\n",
       "      <td>English</td>\n",
       "    </tr>\n",
       "    <tr>\n",
       "      <th>11</th>\n",
       "      <td>LIRIK</td>\n",
       "      <td>2832930285</td>\n",
       "      <td>128490</td>\n",
       "      <td>89170</td>\n",
       "      <td>21739</td>\n",
       "      <td>2666382</td>\n",
       "      <td>199077</td>\n",
       "      <td>50504526</td>\n",
       "      <td>True</td>\n",
       "      <td>False</td>\n",
       "      <td>English</td>\n",
       "    </tr>\n",
       "    <tr>\n",
       "      <th>12</th>\n",
       "      <td>Riot Games (riotgames)</td>\n",
       "      <td>2674646715</td>\n",
       "      <td>80820</td>\n",
       "      <td>639375</td>\n",
       "      <td>20960</td>\n",
       "      <td>4487489</td>\n",
       "      <td>497678</td>\n",
       "      <td>56855694</td>\n",
       "      <td>True</td>\n",
       "      <td>False</td>\n",
       "      <td>English</td>\n",
       "    </tr>\n",
       "    <tr>\n",
       "      <th>13</th>\n",
       "      <td>Rubius</td>\n",
       "      <td>2588632635</td>\n",
       "      <td>58275</td>\n",
       "      <td>240096</td>\n",
       "      <td>42948</td>\n",
       "      <td>5751354</td>\n",
       "      <td>3820532</td>\n",
       "      <td>58599449</td>\n",
       "      <td>True</td>\n",
       "      <td>False</td>\n",
       "      <td>Spanish</td>\n",
       "    </tr>\n",
       "    <tr>\n",
       "      <th>14</th>\n",
       "      <td>auronplay</td>\n",
       "      <td>2410022550</td>\n",
       "      <td>40575</td>\n",
       "      <td>170115</td>\n",
       "      <td>53986</td>\n",
       "      <td>3983847</td>\n",
       "      <td>3966525</td>\n",
       "      <td>41514854</td>\n",
       "      <td>True</td>\n",
       "      <td>False</td>\n",
       "      <td>Spanish</td>\n",
       "    </tr>\n",
       "    <tr>\n",
       "      <th>15</th>\n",
       "      <td>MontanaBlack88</td>\n",
       "      <td>2408460990</td>\n",
       "      <td>67740</td>\n",
       "      <td>181600</td>\n",
       "      <td>33514</td>\n",
       "      <td>2911316</td>\n",
       "      <td>1101093</td>\n",
       "      <td>37189666</td>\n",
       "      <td>True</td>\n",
       "      <td>True</td>\n",
       "      <td>German</td>\n",
       "    </tr>\n",
       "    <tr>\n",
       "      <th>16</th>\n",
       "      <td>sodapoppin</td>\n",
       "      <td>2329440420</td>\n",
       "      <td>115305</td>\n",
       "      <td>107833</td>\n",
       "      <td>19659</td>\n",
       "      <td>2786162</td>\n",
       "      <td>236169</td>\n",
       "      <td>39334821</td>\n",
       "      <td>True</td>\n",
       "      <td>True</td>\n",
       "      <td>English</td>\n",
       "    </tr>\n",
       "    <tr>\n",
       "      <th>17</th>\n",
       "      <td>풍월량 (hanryang1125)</td>\n",
       "      <td>2186662470</td>\n",
       "      <td>181230</td>\n",
       "      <td>26999</td>\n",
       "      <td>12201</td>\n",
       "      <td>494445</td>\n",
       "      <td>92205</td>\n",
       "      <td>34405975</td>\n",
       "      <td>True</td>\n",
       "      <td>False</td>\n",
       "      <td>Korean</td>\n",
       "    </tr>\n",
       "    <tr>\n",
       "      <th>18</th>\n",
       "      <td>alanzoka</td>\n",
       "      <td>2055003870</td>\n",
       "      <td>103770</td>\n",
       "      <td>89153</td>\n",
       "      <td>19560</td>\n",
       "      <td>3445134</td>\n",
       "      <td>1325075</td>\n",
       "      <td>46515698</td>\n",
       "      <td>True</td>\n",
       "      <td>False</td>\n",
       "      <td>Portuguese</td>\n",
       "    </tr>\n",
       "    <tr>\n",
       "      <th>19</th>\n",
       "      <td>CohhCarnage</td>\n",
       "      <td>2029212570</td>\n",
       "      <td>175230</td>\n",
       "      <td>43615</td>\n",
       "      <td>11343</td>\n",
       "      <td>1264808</td>\n",
       "      <td>124242</td>\n",
       "      <td>38718674</td>\n",
       "      <td>True</td>\n",
       "      <td>False</td>\n",
       "      <td>English</td>\n",
       "    </tr>\n",
       "    <tr>\n",
       "      <th>20</th>\n",
       "      <td>Lord_Kebun</td>\n",
       "      <td>1943299035</td>\n",
       "      <td>153720</td>\n",
       "      <td>34830</td>\n",
       "      <td>12367</td>\n",
       "      <td>434200</td>\n",
       "      <td>137215</td>\n",
       "      <td>19645967</td>\n",
       "      <td>True</td>\n",
       "      <td>False</td>\n",
       "      <td>English</td>\n",
       "    </tr>\n",
       "    <tr>\n",
       "      <th>21</th>\n",
       "      <td>LCK_Korea</td>\n",
       "      <td>1916365860</td>\n",
       "      <td>47325</td>\n",
       "      <td>140557</td>\n",
       "      <td>39848</td>\n",
       "      <td>619382</td>\n",
       "      <td>255088</td>\n",
       "      <td>76225485</td>\n",
       "      <td>True</td>\n",
       "      <td>False</td>\n",
       "      <td>Korean</td>\n",
       "    </tr>\n",
       "    <tr>\n",
       "      <th>22</th>\n",
       "      <td>Castro_1021</td>\n",
       "      <td>1845157080</td>\n",
       "      <td>100215</td>\n",
       "      <td>125133</td>\n",
       "      <td>17779</td>\n",
       "      <td>2411995</td>\n",
       "      <td>550678</td>\n",
       "      <td>22672980</td>\n",
       "      <td>True</td>\n",
       "      <td>False</td>\n",
       "      <td>English</td>\n",
       "    </tr>\n",
       "    <tr>\n",
       "      <th>23</th>\n",
       "      <td>DrDisrespect</td>\n",
       "      <td>1839882465</td>\n",
       "      <td>73065</td>\n",
       "      <td>97540</td>\n",
       "      <td>23794</td>\n",
       "      <td>4450718</td>\n",
       "      <td>825004</td>\n",
       "      <td>43919410</td>\n",
       "      <td>True</td>\n",
       "      <td>False</td>\n",
       "      <td>English</td>\n",
       "    </tr>\n",
       "    <tr>\n",
       "      <th>24</th>\n",
       "      <td>TheRealKnossi</td>\n",
       "      <td>1811696100</td>\n",
       "      <td>56010</td>\n",
       "      <td>288459</td>\n",
       "      <td>24595</td>\n",
       "      <td>1260160</td>\n",
       "      <td>1082039</td>\n",
       "      <td>25342894</td>\n",
       "      <td>True</td>\n",
       "      <td>True</td>\n",
       "      <td>German</td>\n",
       "    </tr>\n",
       "    <tr>\n",
       "      <th>25</th>\n",
       "      <td>TheGrefg</td>\n",
       "      <td>1757406750</td>\n",
       "      <td>54855</td>\n",
       "      <td>538444</td>\n",
       "      <td>28887</td>\n",
       "      <td>3795667</td>\n",
       "      <td>3593081</td>\n",
       "      <td>47094362</td>\n",
       "      <td>True</td>\n",
       "      <td>False</td>\n",
       "      <td>Spanish</td>\n",
       "    </tr>\n",
       "    <tr>\n",
       "      <th>26</th>\n",
       "      <td>YoDa</td>\n",
       "      <td>1690237110</td>\n",
       "      <td>135675</td>\n",
       "      <td>123796</td>\n",
       "      <td>12868</td>\n",
       "      <td>1792625</td>\n",
       "      <td>383130</td>\n",
       "      <td>38499423</td>\n",
       "      <td>True</td>\n",
       "      <td>False</td>\n",
       "      <td>Portuguese</td>\n",
       "    </tr>\n",
       "    <tr>\n",
       "      <th>27</th>\n",
       "      <td>Pestily</td>\n",
       "      <td>1659741015</td>\n",
       "      <td>138300</td>\n",
       "      <td>168112</td>\n",
       "      <td>8481</td>\n",
       "      <td>616168</td>\n",
       "      <td>520342</td>\n",
       "      <td>24029726</td>\n",
       "      <td>True</td>\n",
       "      <td>False</td>\n",
       "      <td>English</td>\n",
       "    </tr>\n",
       "    <tr>\n",
       "      <th>28</th>\n",
       "      <td>한동숙 (handongsuk)</td>\n",
       "      <td>1621667925</td>\n",
       "      <td>127815</td>\n",
       "      <td>44976</td>\n",
       "      <td>12869</td>\n",
       "      <td>385250</td>\n",
       "      <td>73602</td>\n",
       "      <td>30610352</td>\n",
       "      <td>True</td>\n",
       "      <td>False</td>\n",
       "      <td>Korean</td>\n",
       "    </tr>\n",
       "    <tr>\n",
       "      <th>29</th>\n",
       "      <td>GamesDoneQuick</td>\n",
       "      <td>1619144100</td>\n",
       "      <td>87450</td>\n",
       "      <td>234826</td>\n",
       "      <td>6734</td>\n",
       "      <td>1724316</td>\n",
       "      <td>113469</td>\n",
       "      <td>43345080</td>\n",
       "      <td>True</td>\n",
       "      <td>False</td>\n",
       "      <td>English</td>\n",
       "    </tr>\n",
       "    <tr>\n",
       "      <th>30</th>\n",
       "      <td>Solary</td>\n",
       "      <td>1546597380</td>\n",
       "      <td>486510</td>\n",
       "      <td>24470</td>\n",
       "      <td>3187</td>\n",
       "      <td>493207</td>\n",
       "      <td>143569</td>\n",
       "      <td>48799554</td>\n",
       "      <td>True</td>\n",
       "      <td>False</td>\n",
       "      <td>French</td>\n",
       "    </tr>\n",
       "    <tr>\n",
       "      <th>31</th>\n",
       "      <td>Gotaga</td>\n",
       "      <td>1538511315</td>\n",
       "      <td>141675</td>\n",
       "      <td>81644</td>\n",
       "      <td>10750</td>\n",
       "      <td>2401580</td>\n",
       "      <td>632118</td>\n",
       "      <td>39591707</td>\n",
       "      <td>True</td>\n",
       "      <td>False</td>\n",
       "      <td>French</td>\n",
       "    </tr>\n",
       "    <tr>\n",
       "      <th>32</th>\n",
       "      <td>MOONMOON</td>\n",
       "      <td>1527882945</td>\n",
       "      <td>124680</td>\n",
       "      <td>24892</td>\n",
       "      <td>11220</td>\n",
       "      <td>923448</td>\n",
       "      <td>95776</td>\n",
       "      <td>13505898</td>\n",
       "      <td>True</td>\n",
       "      <td>True</td>\n",
       "      <td>English</td>\n",
       "    </tr>\n",
       "    <tr>\n",
       "      <th>33</th>\n",
       "      <td>DrLupo</td>\n",
       "      <td>1517612010</td>\n",
       "      <td>172350</td>\n",
       "      <td>90696</td>\n",
       "      <td>8311</td>\n",
       "      <td>4115083</td>\n",
       "      <td>567795</td>\n",
       "      <td>47295386</td>\n",
       "      <td>True</td>\n",
       "      <td>False</td>\n",
       "      <td>English</td>\n",
       "    </tr>\n",
       "  </tbody>\n",
       "</table>\n",
       "</div>"
      ],
      "text/plain": [
       "                   Channel  Watch time(Minutes)  Stream time(minutes)  \\\n",
       "0                    xQcOW           6196161750                215250   \n",
       "1                 summit1g           6091677300                211845   \n",
       "2                   Gaules           5644590915                515280   \n",
       "3                 ESL_CSGO           3970318140                517740   \n",
       "4                     Tfue           3671000070                123660   \n",
       "5                Asmongold           3668799075                 82260   \n",
       "6                NICKMERCS           3360675195                136275   \n",
       "8                loltyler1           2928356940                122490   \n",
       "9                  Anomaly           2865429915                 92880   \n",
       "10            TimTheTatman           2834436990                108780   \n",
       "11                   LIRIK           2832930285                128490   \n",
       "12  Riot Games (riotgames)           2674646715                 80820   \n",
       "13                  Rubius           2588632635                 58275   \n",
       "14               auronplay           2410022550                 40575   \n",
       "15          MontanaBlack88           2408460990                 67740   \n",
       "16              sodapoppin           2329440420                115305   \n",
       "17      풍월량 (hanryang1125)           2186662470                181230   \n",
       "18                alanzoka           2055003870                103770   \n",
       "19             CohhCarnage           2029212570                175230   \n",
       "20              Lord_Kebun           1943299035                153720   \n",
       "21               LCK_Korea           1916365860                 47325   \n",
       "22             Castro_1021           1845157080                100215   \n",
       "23            DrDisrespect           1839882465                 73065   \n",
       "24           TheRealKnossi           1811696100                 56010   \n",
       "25                TheGrefg           1757406750                 54855   \n",
       "26                    YoDa           1690237110                135675   \n",
       "27                 Pestily           1659741015                138300   \n",
       "28        한동숙 (handongsuk)           1621667925                127815   \n",
       "29          GamesDoneQuick           1619144100                 87450   \n",
       "30                  Solary           1546597380                486510   \n",
       "31                  Gotaga           1538511315                141675   \n",
       "32                MOONMOON           1527882945                124680   \n",
       "33                  DrLupo           1517612010                172350   \n",
       "\n",
       "    Peak viewers  Average viewers  Followers  Followers gained  Views gained  \\\n",
       "0         222720            27716    3246298           1734810      93036735   \n",
       "1         310998            25610    5310163           1370184      89705964   \n",
       "2         387315            10976    1767635           1023779     102611607   \n",
       "3         300575             7714    3944850            703986     106546942   \n",
       "4         285644            29602    8938903           2068424      78998587   \n",
       "5         263720            42414    1563438            554201      61715781   \n",
       "6         115633            24181    4074287           1089824      46084211   \n",
       "8          89387            22381    3530767            951730      51349926   \n",
       "9         125408            12377    2607076           1532689      36350662   \n",
       "10        142067            25664    5265659           1244341      50119786   \n",
       "11         89170            21739    2666382            199077      50504526   \n",
       "12        639375            20960    4487489            497678      56855694   \n",
       "13        240096            42948    5751354           3820532      58599449   \n",
       "14        170115            53986    3983847           3966525      41514854   \n",
       "15        181600            33514    2911316           1101093      37189666   \n",
       "16        107833            19659    2786162            236169      39334821   \n",
       "17         26999            12201     494445             92205      34405975   \n",
       "18         89153            19560    3445134           1325075      46515698   \n",
       "19         43615            11343    1264808            124242      38718674   \n",
       "20         34830            12367     434200            137215      19645967   \n",
       "21        140557            39848     619382            255088      76225485   \n",
       "22        125133            17779    2411995            550678      22672980   \n",
       "23         97540            23794    4450718            825004      43919410   \n",
       "24        288459            24595    1260160           1082039      25342894   \n",
       "25        538444            28887    3795667           3593081      47094362   \n",
       "26        123796            12868    1792625            383130      38499423   \n",
       "27        168112             8481     616168            520342      24029726   \n",
       "28         44976            12869     385250             73602      30610352   \n",
       "29        234826             6734    1724316            113469      43345080   \n",
       "30         24470             3187     493207            143569      48799554   \n",
       "31         81644            10750    2401580            632118      39591707   \n",
       "32         24892            11220     923448             95776      13505898   \n",
       "33         90696             8311    4115083            567795      47295386   \n",
       "\n",
       "    Partnered  Mature    Language  \n",
       "0        True   False     English  \n",
       "1        True   False     English  \n",
       "2        True    True  Portuguese  \n",
       "3        True   False     English  \n",
       "4        True   False     English  \n",
       "5        True   False     English  \n",
       "6        True   False     English  \n",
       "8        True   False     English  \n",
       "9        True   False     English  \n",
       "10       True    True     English  \n",
       "11       True   False     English  \n",
       "12       True   False     English  \n",
       "13       True   False     Spanish  \n",
       "14       True   False     Spanish  \n",
       "15       True    True      German  \n",
       "16       True    True     English  \n",
       "17       True   False      Korean  \n",
       "18       True   False  Portuguese  \n",
       "19       True   False     English  \n",
       "20       True   False     English  \n",
       "21       True   False      Korean  \n",
       "22       True   False     English  \n",
       "23       True   False     English  \n",
       "24       True    True      German  \n",
       "25       True   False     Spanish  \n",
       "26       True   False  Portuguese  \n",
       "27       True   False     English  \n",
       "28       True   False      Korean  \n",
       "29       True   False     English  \n",
       "30       True   False      French  \n",
       "31       True   False      French  \n",
       "32       True    True     English  \n",
       "33       True   False     English  "
      ]
     },
     "execution_count": 82,
     "metadata": {},
     "output_type": "execute_result"
    }
   ],
   "source": [
    "df[df['Watch time(Minutes)']>1500000000]"
   ]
  },
  {
   "cell_type": "code",
   "execution_count": 7,
   "id": "38f6da13",
   "metadata": {},
   "outputs": [
    {
     "data": {
      "text/plain": [
       "(array([ 58., 101., 136., 193., 194., 143.,  74.,  33.,  17.,   6.,   3.,\n",
       "          2.,   4.,   4.,   4.,   1.,   1.,   2.,   4.,  20.]),\n",
       " array([  3465.,  29364.,  55263.,  81162., 107061., 132960., 158859.,\n",
       "        184758., 210657., 236556., 262455., 288354., 314253., 340152.,\n",
       "        366051., 391950., 417849., 443748., 469647., 495546., 521445.]),\n",
       " <BarContainer object of 20 artists>)"
      ]
     },
     "execution_count": 7,
     "metadata": {},
     "output_type": "execute_result"
    },
    {
     "data": {
      "image/png": "[encoded data removed]",
      "text/plain": [
       "<Figure size 432x288 with 1 Axes>"
      ]
     },
     "metadata": {
      "needs_background": "light"
     },
     "output_type": "display_data"
    }
   ],
   "source": [
    "plt.hist(df['Stream time(minutes)'], edgecolor='black', bins=20)"
   ]
  },
  {
   "cell_type": "code",
   "execution_count": 13,
   "id": "3eae1f23",
   "metadata": {},
   "outputs": [
    {
     "name": "stderr",
     "output_type": "stream",
     "text": [
      "D:\\anaconda3\\lib\\site-packages\\seaborn\\_decorators.py:36: FutureWarning: Pass the following variable as a keyword arg: x. From version 0.12, the only valid positional argument will be `data`, and passing other arguments without an explicit keyword will result in an error or misinterpretation.\n",
      "  warnings.warn(\n"
     ]
    },
    {
     "data": {
      "text/plain": [
       "<AxesSubplot:xlabel='Stream time(minutes)'>"
      ]
     },
     "execution_count": 13,
     "metadata": {},
     "output_type": "execute_result"
    },
    {
     "data": {
      "image/png": "[encoded data removed]",
      "text/plain": [
       "<Figure size 432x288 with 1 Axes>"
      ]
     },
     "metadata": {
      "needs_background": "light"
     },
     "output_type": "display_data"
    }
   ],
   "source": [
    "sns.boxplot(df['Stream time(minutes)'])"
   ]
  },
  {
   "cell_type": "code",
   "execution_count": 8,
   "id": "64e4d29d",
   "metadata": {
    "scrolled": false
   },
   "outputs": [
    {
     "data": {
      "text/plain": [
       "(array([716., 141.,  54.,  35.,  17.,   9.,   5.,   5.,   4.,   5.,   2.,\n",
       "          1.,   1.,   0.,   2.,   1.,   1.,   0.,   0.,   1.]),\n",
       " array([4.9600000e+02, 3.2439950e+04, 6.4383900e+04, 9.6327850e+04,\n",
       "        1.2827180e+05, 1.6021575e+05, 1.9215970e+05, 2.2410365e+05,\n",
       "        2.5604760e+05, 2.8799155e+05, 3.1993550e+05, 3.5187945e+05,\n",
       "        3.8382340e+05, 4.1576735e+05, 4.4771130e+05, 4.7965525e+05,\n",
       "        5.1159920e+05, 5.4354315e+05, 5.7548710e+05, 6.0743105e+05,\n",
       "        6.3937500e+05]),\n",
       " <BarContainer object of 20 artists>)"
      ]
     },
     "execution_count": 8,
     "metadata": {},
     "output_type": "execute_result"
    },
    {
     "data": {
      "image/png": "[encoded data removed]",
      "text/plain": [
       "<Figure size 432x288 with 1 Axes>"
      ]
     },
     "metadata": {
      "needs_background": "light"
     },
     "output_type": "display_data"
    }
   ],
   "source": [
    "plt.hist(df['Peak viewers'], edgecolor='black', bins=20)"
   ]
  },
  {
   "cell_type": "code",
   "execution_count": 2,
   "id": "f61a6782",
   "metadata": {
    "scrolled": false
   },
   "outputs": [
    {
     "name": "stderr",
     "output_type": "stream",
     "text": [
      "D:\\anaconda3\\lib\\site-packages\\seaborn\\_decorators.py:36: FutureWarning: Pass the following variable as a keyword arg: x. From version 0.12, the only valid positional argument will be `data`, and passing other arguments without an explicit keyword will result in an error or misinterpretation.\n",
      "  warnings.warn(\n"
     ]
    },
    {
     "data": {
      "text/plain": [
       "<AxesSubplot:xlabel='Peak viewers'>"
      ]
     },
     "execution_count": 2,
     "metadata": {},
     "output_type": "execute_result"
    },
    {
     "data": {
      "image/png": "[encoded data removed]",
      "text/plain": [
       "<Figure size 432x288 with 1 Axes>"
      ]
     },
     "metadata": {
      "needs_background": "light"
     },
     "output_type": "display_data"
    }
   ],
   "source": [
    "sns.boxplot(df['Peak viewers'])"
   ]
  },
  {
   "cell_type": "code",
   "execution_count": 11,
   "id": "2952f72f",
   "metadata": {},
   "outputs": [
    {
     "data": {
      "text/plain": [
       "(array([857.,  87.,  24.,  19.,   6.,   3.,   1.,   1.,   0.,   0.,   0.,\n",
       "          0.,   0.,   0.,   0.,   0.,   0.,   1.,   0.,   1.]),\n",
       " array([   235. ,   7605.4,  14975.8,  22346.2,  29716.6,  37087. ,\n",
       "         44457.4,  51827.8,  59198.2,  66568.6,  73939. ,  81309.4,\n",
       "         88679.8,  96050.2, 103420.6, 110791. , 118161.4, 125531.8,\n",
       "        132902.2, 140272.6, 147643. ]),\n",
       " <BarContainer object of 20 artists>)"
      ]
     },
     "execution_count": 11,
     "metadata": {},
     "output_type": "execute_result"
    },
    {
     "data": {
      "image/png": "[encoded data removed]",
      "text/plain": [
       "<Figure size 432x288 with 1 Axes>"
      ]
     },
     "metadata": {
      "needs_background": "light"
     },
     "output_type": "display_data"
    }
   ],
   "source": [
    "plt.hist(df['Average viewers'], edgecolor='black', bins=20)"
   ]
  },
  {
   "cell_type": "code",
   "execution_count": 3,
   "id": "9d90593a",
   "metadata": {
    "scrolled": false
   },
   "outputs": [
    {
     "name": "stderr",
     "output_type": "stream",
     "text": [
      "D:\\anaconda3\\lib\\site-packages\\seaborn\\_decorators.py:36: FutureWarning: Pass the following variable as a keyword arg: x. From version 0.12, the only valid positional argument will be `data`, and passing other arguments without an explicit keyword will result in an error or misinterpretation.\n",
      "  warnings.warn(\n"
     ]
    },
    {
     "data": {
      "text/plain": [
       "<AxesSubplot:xlabel='Average viewers'>"
      ]
     },
     "execution_count": 3,
     "metadata": {},
     "output_type": "execute_result"
    },
    {
     "data": {
      "image/png": "[encoded data removed]",
      "text/plain": [
       "<Figure size 432x288 with 1 Axes>"
      ]
     },
     "metadata": {
      "needs_background": "light"
     },
     "output_type": "display_data"
    }
   ],
   "source": [
    "sns.boxplot(df['Average viewers'])"
   ]
  },
  {
   "cell_type": "code",
   "execution_count": 64,
   "id": "3f4c71d6",
   "metadata": {},
   "outputs": [
    {
     "data": {
      "text/plain": [
       "0.50     2419.00\n",
       "0.75     4752.00\n",
       "0.95    17066.80\n",
       "0.99    33550.38\n",
       "Name: Average viewers, dtype: float64"
      ]
     },
     "execution_count": 64,
     "metadata": {},
     "output_type": "execute_result"
    }
   ],
   "source": [
    "df['Average viewers'].quantile([.5,.75,.95,.99])"
   ]
  },
  {
   "cell_type": "code",
   "execution_count": 67,
   "id": "0c2e592b",
   "metadata": {
    "scrolled": true
   },
   "outputs": [
    {
     "data": {
      "text/html": [
       "<div>\n",
       "<style scoped>\n",
       "    .dataframe tbody tr th:only-of-type {\n",
       "        vertical-align: middle;\n",
       "    }\n",
       "\n",
       "    .dataframe tbody tr th {\n",
       "        vertical-align: top;\n",
       "    }\n",
       "\n",
       "    .dataframe thead th {\n",
       "        text-align: right;\n",
       "    }\n",
       "</style>\n",
       "<table border=\"1\" class=\"dataframe\">\n",
       "  <thead>\n",
       "    <tr style=\"text-align: right;\">\n",
       "      <th></th>\n",
       "      <th>Watch time(Minutes)</th>\n",
       "      <th>Stream time(minutes)</th>\n",
       "      <th>Peak viewers</th>\n",
       "      <th>Average viewers</th>\n",
       "      <th>Followers</th>\n",
       "      <th>Followers gained</th>\n",
       "      <th>Views gained</th>\n",
       "    </tr>\n",
       "  </thead>\n",
       "  <tbody>\n",
       "    <tr>\n",
       "      <th>count</th>\n",
       "      <td>3.000000e+00</td>\n",
       "      <td>3.00000</td>\n",
       "      <td>3.000000</td>\n",
       "      <td>3.000000</td>\n",
       "      <td>3.000000e+00</td>\n",
       "      <td>3.000000e+00</td>\n",
       "      <td>3.000000e+00</td>\n",
       "    </tr>\n",
       "    <tr>\n",
       "      <th>mean</th>\n",
       "      <td>1.413379e+09</td>\n",
       "      <td>17695.00000</td>\n",
       "      <td>370235.000000</td>\n",
       "      <td>109287.000000</td>\n",
       "      <td>1.729596e+06</td>\n",
       "      <td>1.398795e+06</td>\n",
       "      <td>2.327042e+07</td>\n",
       "    </tr>\n",
       "    <tr>\n",
       "      <th>std</th>\n",
       "      <td>8.691855e+08</td>\n",
       "      <td>19814.75208</td>\n",
       "      <td>173813.624394</td>\n",
       "      <td>49074.007183</td>\n",
       "      <td>1.953186e+06</td>\n",
       "      <td>2.223729e+06</td>\n",
       "      <td>1.593644e+07</td>\n",
       "    </tr>\n",
       "    <tr>\n",
       "      <th>min</th>\n",
       "      <td>8.125381e+08</td>\n",
       "      <td>6195.00000</td>\n",
       "      <td>170115.000000</td>\n",
       "      <td>53986.000000</td>\n",
       "      <td>5.416440e+05</td>\n",
       "      <td>1.084380e+05</td>\n",
       "      <td>1.206838e+07</td>\n",
       "    </tr>\n",
       "    <tr>\n",
       "      <th>25%</th>\n",
       "      <td>9.150578e+08</td>\n",
       "      <td>6255.00000</td>\n",
       "      <td>313587.500000</td>\n",
       "      <td>90109.000000</td>\n",
       "      <td>6.024705e+05</td>\n",
       "      <td>1.149300e+05</td>\n",
       "      <td>1.414821e+07</td>\n",
       "    </tr>\n",
       "    <tr>\n",
       "      <th>50%</th>\n",
       "      <td>1.017578e+09</td>\n",
       "      <td>6315.00000</td>\n",
       "      <td>457060.000000</td>\n",
       "      <td>126232.000000</td>\n",
       "      <td>6.632970e+05</td>\n",
       "      <td>1.214220e+05</td>\n",
       "      <td>1.622804e+07</td>\n",
       "    </tr>\n",
       "    <tr>\n",
       "      <th>75%</th>\n",
       "      <td>1.713800e+09</td>\n",
       "      <td>23445.00000</td>\n",
       "      <td>470295.000000</td>\n",
       "      <td>136937.500000</td>\n",
       "      <td>2.323572e+06</td>\n",
       "      <td>2.043974e+06</td>\n",
       "      <td>2.887145e+07</td>\n",
       "    </tr>\n",
       "    <tr>\n",
       "      <th>max</th>\n",
       "      <td>2.410023e+09</td>\n",
       "      <td>40575.00000</td>\n",
       "      <td>483530.000000</td>\n",
       "      <td>147643.000000</td>\n",
       "      <td>3.983847e+06</td>\n",
       "      <td>3.966525e+06</td>\n",
       "      <td>4.151485e+07</td>\n",
       "    </tr>\n",
       "  </tbody>\n",
       "</table>\n",
       "</div>"
      ],
      "text/plain": [
       "       Watch time(Minutes)  Stream time(minutes)   Peak viewers  \\\n",
       "count         3.000000e+00               3.00000       3.000000   \n",
       "mean          1.413379e+09           17695.00000  370235.000000   \n",
       "std           8.691855e+08           19814.75208  173813.624394   \n",
       "min           8.125381e+08            6195.00000  170115.000000   \n",
       "25%           9.150578e+08            6255.00000  313587.500000   \n",
       "50%           1.017578e+09            6315.00000  457060.000000   \n",
       "75%           1.713800e+09           23445.00000  470295.000000   \n",
       "max           2.410023e+09           40575.00000  483530.000000   \n",
       "\n",
       "       Average viewers     Followers  Followers gained  Views gained  \n",
       "count         3.000000  3.000000e+00      3.000000e+00  3.000000e+00  \n",
       "mean     109287.000000  1.729596e+06      1.398795e+06  2.327042e+07  \n",
       "std       49074.007183  1.953186e+06      2.223729e+06  1.593644e+07  \n",
       "min       53986.000000  5.416440e+05      1.084380e+05  1.206838e+07  \n",
       "25%       90109.000000  6.024705e+05      1.149300e+05  1.414821e+07  \n",
       "50%      126232.000000  6.632970e+05      1.214220e+05  1.622804e+07  \n",
       "75%      136937.500000  2.323572e+06      2.043974e+06  2.887145e+07  \n",
       "max      147643.000000  3.983847e+06      3.966525e+06  4.151485e+07  "
      ]
     },
     "execution_count": 67,
     "metadata": {},
     "output_type": "execute_result"
    }
   ],
   "source": [
    "df[df['Average viewers']>50000].describe()"
   ]
  },
  {
   "cell_type": "code",
   "execution_count": 68,
   "id": "b1954a10",
   "metadata": {},
   "outputs": [
    {
     "data": {
      "text/html": [
       "<div>\n",
       "<style scoped>\n",
       "    .dataframe tbody tr th:only-of-type {\n",
       "        vertical-align: middle;\n",
       "    }\n",
       "\n",
       "    .dataframe tbody tr th {\n",
       "        vertical-align: top;\n",
       "    }\n",
       "\n",
       "    .dataframe thead th {\n",
       "        text-align: right;\n",
       "    }\n",
       "</style>\n",
       "<table border=\"1\" class=\"dataframe\">\n",
       "  <thead>\n",
       "    <tr style=\"text-align: right;\">\n",
       "      <th></th>\n",
       "      <th>Channel</th>\n",
       "      <th>Watch time(Minutes)</th>\n",
       "      <th>Stream time(minutes)</th>\n",
       "      <th>Peak viewers</th>\n",
       "      <th>Average viewers</th>\n",
       "      <th>Followers</th>\n",
       "      <th>Followers gained</th>\n",
       "      <th>Views gained</th>\n",
       "      <th>Partnered</th>\n",
       "      <th>Mature</th>\n",
       "      <th>Language</th>\n",
       "    </tr>\n",
       "  </thead>\n",
       "  <tbody>\n",
       "    <tr>\n",
       "      <th>81</th>\n",
       "      <td>dota2ti</td>\n",
       "      <td>1017577605</td>\n",
       "      <td>6315</td>\n",
       "      <td>483530</td>\n",
       "      <td>147643</td>\n",
       "      <td>663297</td>\n",
       "      <td>121422</td>\n",
       "      <td>16228039</td>\n",
       "      <td>True</td>\n",
       "      <td>False</td>\n",
       "      <td>English</td>\n",
       "    </tr>\n",
       "    <tr>\n",
       "      <th>109</th>\n",
       "      <td>dota2ti_ru</td>\n",
       "      <td>812538090</td>\n",
       "      <td>6195</td>\n",
       "      <td>457060</td>\n",
       "      <td>126232</td>\n",
       "      <td>541644</td>\n",
       "      <td>108438</td>\n",
       "      <td>12068376</td>\n",
       "      <td>True</td>\n",
       "      <td>False</td>\n",
       "      <td>Russian</td>\n",
       "    </tr>\n",
       "  </tbody>\n",
       "</table>\n",
       "</div>"
      ],
      "text/plain": [
       "        Channel  Watch time(Minutes)  Stream time(minutes)  Peak viewers  \\\n",
       "81      dota2ti           1017577605                  6315        483530   \n",
       "109  dota2ti_ru            812538090                  6195        457060   \n",
       "\n",
       "     Average viewers  Followers  Followers gained  Views gained  Partnered  \\\n",
       "81            147643     663297            121422      16228039       True   \n",
       "109           126232     541644            108438      12068376       True   \n",
       "\n",
       "     Mature Language  \n",
       "81    False  English  \n",
       "109   False  Russian  "
      ]
     },
     "execution_count": 68,
     "metadata": {},
     "output_type": "execute_result"
    }
   ],
   "source": [
    "df[df['Average viewers']>60000]"
   ]
  },
  {
   "cell_type": "code",
   "execution_count": 3,
   "id": "f9622d7c",
   "metadata": {},
   "outputs": [],
   "source": [
    "df.drop([81,109], axis=0, inplace=True)"
   ]
  },
  {
   "cell_type": "code",
   "execution_count": 144,
   "id": "8bdcd933",
   "metadata": {},
   "outputs": [
    {
     "name": "stderr",
     "output_type": "stream",
     "text": [
      "D:\\anaconda3\\lib\\site-packages\\seaborn\\_decorators.py:36: FutureWarning: Pass the following variable as a keyword arg: x. From version 0.12, the only valid positional argument will be `data`, and passing other arguments without an explicit keyword will result in an error or misinterpretation.\n",
      "  warnings.warn(\n"
     ]
    },
    {
     "data": {
      "text/plain": [
       "<AxesSubplot:xlabel='Average viewers'>"
      ]
     },
     "execution_count": 144,
     "metadata": {},
     "output_type": "execute_result"
    },
    {
     "data": {
      "image/png": "[encoded data removed]",
      "text/plain": [
       "<Figure size 432x288 with 1 Axes>"
      ]
     },
     "metadata": {
      "needs_background": "light"
     },
     "output_type": "display_data"
    }
   ],
   "source": [
    "sns.boxplot(df['Average viewers'])"
   ]
  },
  {
   "cell_type": "code",
   "execution_count": 88,
   "id": "89a2b1b9",
   "metadata": {
    "scrolled": false
   },
   "outputs": [
    {
     "data": {
      "text/plain": [
       "(array([632., 215.,  64.,  35.,  16.,   8.,   6.,   5.,   4.,   3.,   2.,\n",
       "          2.,   2.,   0.,   0.,   1.,   0.,   1.,   0.,   1.]),\n",
       " array([3.66000000e+03, 4.50422150e+05, 8.97184300e+05, 1.34394645e+06,\n",
       "        1.79070860e+06, 2.23747075e+06, 2.68423290e+06, 3.13099505e+06,\n",
       "        3.57775720e+06, 4.02451935e+06, 4.47128150e+06, 4.91804365e+06,\n",
       "        5.36480580e+06, 5.81156795e+06, 6.25833010e+06, 6.70509225e+06,\n",
       "        7.15185440e+06, 7.59861655e+06, 8.04537870e+06, 8.49214085e+06,\n",
       "        8.93890300e+06]),\n",
       " <BarContainer object of 20 artists>)"
      ]
     },
     "execution_count": 88,
     "metadata": {},
     "output_type": "execute_result"
    },
    {
     "data": {
      "image/png": "[encoded data removed]",
      "text/plain": [
       "<Figure size 432x288 with 1 Axes>"
      ]
     },
     "metadata": {
      "needs_background": "light"
     },
     "output_type": "display_data"
    }
   ],
   "source": [
    "plt.hist(df['Followers'], edgecolor='black', bins=20)"
   ]
  },
  {
   "cell_type": "code",
   "execution_count": 89,
   "id": "e2175707",
   "metadata": {
    "scrolled": false
   },
   "outputs": [
    {
     "name": "stderr",
     "output_type": "stream",
     "text": [
      "D:\\anaconda3\\lib\\site-packages\\seaborn\\_decorators.py:36: FutureWarning: Pass the following variable as a keyword arg: x. From version 0.12, the only valid positional argument will be `data`, and passing other arguments without an explicit keyword will result in an error or misinterpretation.\n",
      "  warnings.warn(\n"
     ]
    },
    {
     "data": {
      "text/plain": [
       "<AxesSubplot:xlabel='Followers'>"
      ]
     },
     "execution_count": 89,
     "metadata": {},
     "output_type": "execute_result"
    },
    {
     "data": {
      "image/png": "[encoded data removed]",
      "text/plain": [
       "<Figure size 432x288 with 1 Axes>"
      ]
     },
     "metadata": {
      "needs_background": "light"
     },
     "output_type": "display_data"
    }
   ],
   "source": [
    "sns.boxplot(df['Followers'])"
   ]
  },
  {
   "cell_type": "code",
   "execution_count": 90,
   "id": "b0945530",
   "metadata": {
    "scrolled": true
   },
   "outputs": [
    {
     "data": {
      "text/plain": [
       "0.50     317125.0\n",
       "0.75     622358.0\n",
       "0.95    1793423.8\n",
       "0.99    4128508.4\n",
       "Name: Followers, dtype: float64"
      ]
     },
     "execution_count": 90,
     "metadata": {},
     "output_type": "execute_result"
    }
   ],
   "source": [
    "df['Followers'].quantile([.5,.75,.95,.99])"
   ]
  },
  {
   "cell_type": "code",
   "execution_count": 91,
   "id": "57bf8006",
   "metadata": {
    "scrolled": false
   },
   "outputs": [
    {
     "data": {
      "text/html": [
       "<div>\n",
       "<style scoped>\n",
       "    .dataframe tbody tr th:only-of-type {\n",
       "        vertical-align: middle;\n",
       "    }\n",
       "\n",
       "    .dataframe tbody tr th {\n",
       "        vertical-align: top;\n",
       "    }\n",
       "\n",
       "    .dataframe thead th {\n",
       "        text-align: right;\n",
       "    }\n",
       "</style>\n",
       "<table border=\"1\" class=\"dataframe\">\n",
       "  <thead>\n",
       "    <tr style=\"text-align: right;\">\n",
       "      <th></th>\n",
       "      <th>Watch time(Minutes)</th>\n",
       "      <th>Stream time(minutes)</th>\n",
       "      <th>Peak viewers</th>\n",
       "      <th>Average viewers</th>\n",
       "      <th>Followers</th>\n",
       "      <th>Followers gained</th>\n",
       "      <th>Views gained</th>\n",
       "    </tr>\n",
       "  </thead>\n",
       "  <tbody>\n",
       "    <tr>\n",
       "      <th>count</th>\n",
       "      <td>4.900000e+01</td>\n",
       "      <td>49.000000</td>\n",
       "      <td>49.000000</td>\n",
       "      <td>49.000000</td>\n",
       "      <td>4.900000e+01</td>\n",
       "      <td>4.900000e+01</td>\n",
       "      <td>4.900000e+01</td>\n",
       "    </tr>\n",
       "    <tr>\n",
       "      <th>mean</th>\n",
       "      <td>1.635315e+09</td>\n",
       "      <td>106946.632653</td>\n",
       "      <td>136593.040816</td>\n",
       "      <td>16738.673469</td>\n",
       "      <td>3.349804e+06</td>\n",
       "      <td>1.109455e+06</td>\n",
       "      <td>3.515366e+07</td>\n",
       "    </tr>\n",
       "    <tr>\n",
       "      <th>std</th>\n",
       "      <td>1.368912e+09</td>\n",
       "      <td>84128.831187</td>\n",
       "      <td>129883.320851</td>\n",
       "      <td>11050.842704</td>\n",
       "      <td>1.576286e+06</td>\n",
       "      <td>9.038244e+05</td>\n",
       "      <td>2.293467e+07</td>\n",
       "    </tr>\n",
       "    <tr>\n",
       "      <th>min</th>\n",
       "      <td>1.258124e+08</td>\n",
       "      <td>9555.000000</td>\n",
       "      <td>11782.000000</td>\n",
       "      <td>1816.000000</td>\n",
       "      <td>1.801697e+06</td>\n",
       "      <td>5.031200e+04</td>\n",
       "      <td>2.268382e+06</td>\n",
       "    </tr>\n",
       "    <tr>\n",
       "      <th>25%</th>\n",
       "      <td>6.679778e+08</td>\n",
       "      <td>57795.000000</td>\n",
       "      <td>56325.000000</td>\n",
       "      <td>7699.000000</td>\n",
       "      <td>2.138294e+06</td>\n",
       "      <td>5.506780e+05</td>\n",
       "      <td>1.918171e+07</td>\n",
       "    </tr>\n",
       "    <tr>\n",
       "      <th>50%</th>\n",
       "      <td>1.324519e+09</td>\n",
       "      <td>100470.000000</td>\n",
       "      <td>89706.000000</td>\n",
       "      <td>15483.000000</td>\n",
       "      <td>2.911316e+06</td>\n",
       "      <td>8.756780e+05</td>\n",
       "      <td>3.236212e+07</td>\n",
       "    </tr>\n",
       "    <tr>\n",
       "      <th>75%</th>\n",
       "      <td>2.408461e+09</td>\n",
       "      <td>134280.000000</td>\n",
       "      <td>169084.000000</td>\n",
       "      <td>23794.000000</td>\n",
       "      <td>3.983847e+06</td>\n",
       "      <td>1.454481e+06</td>\n",
       "      <td>4.651570e+07</td>\n",
       "    </tr>\n",
       "    <tr>\n",
       "      <th>max</th>\n",
       "      <td>6.196162e+09</td>\n",
       "      <td>517740.000000</td>\n",
       "      <td>639375.000000</td>\n",
       "      <td>53986.000000</td>\n",
       "      <td>8.938903e+06</td>\n",
       "      <td>3.966525e+06</td>\n",
       "      <td>1.065469e+08</td>\n",
       "    </tr>\n",
       "  </tbody>\n",
       "</table>\n",
       "</div>"
      ],
      "text/plain": [
       "       Watch time(Minutes)  Stream time(minutes)   Peak viewers  \\\n",
       "count         4.900000e+01             49.000000      49.000000   \n",
       "mean          1.635315e+09         106946.632653  136593.040816   \n",
       "std           1.368912e+09          84128.831187  129883.320851   \n",
       "min           1.258124e+08           9555.000000   11782.000000   \n",
       "25%           6.679778e+08          57795.000000   56325.000000   \n",
       "50%           1.324519e+09         100470.000000   89706.000000   \n",
       "75%           2.408461e+09         134280.000000  169084.000000   \n",
       "max           6.196162e+09         517740.000000  639375.000000   \n",
       "\n",
       "       Average viewers     Followers  Followers gained  Views gained  \n",
       "count        49.000000  4.900000e+01      4.900000e+01  4.900000e+01  \n",
       "mean      16738.673469  3.349804e+06      1.109455e+06  3.515366e+07  \n",
       "std       11050.842704  1.576286e+06      9.038244e+05  2.293467e+07  \n",
       "min        1816.000000  1.801697e+06      5.031200e+04  2.268382e+06  \n",
       "25%        7699.000000  2.138294e+06      5.506780e+05  1.918171e+07  \n",
       "50%       15483.000000  2.911316e+06      8.756780e+05  3.236212e+07  \n",
       "75%       23794.000000  3.983847e+06      1.454481e+06  4.651570e+07  \n",
       "max       53986.000000  8.938903e+06      3.966525e+06  1.065469e+08  "
      ]
     },
     "execution_count": 91,
     "metadata": {},
     "output_type": "execute_result"
    }
   ],
   "source": [
    "df[df['Followers']>1800000].describe()"
   ]
  },
  {
   "cell_type": "code",
   "execution_count": 92,
   "id": "0e815b83",
   "metadata": {},
   "outputs": [
    {
     "data": {
      "text/plain": [
       "(array([694., 172.,  55.,  35.,   9.,  11.,   4.,   6.,   3.,   2.,   2.,\n",
       "          1.,   0.,   0.,   0.,   0.,   0.,   0.,   1.,   2.]),\n",
       " array([ -15772.  ,  183342.85,  382457.7 ,  581572.55,  780687.4 ,\n",
       "         979802.25, 1178917.1 , 1378031.95, 1577146.8 , 1776261.65,\n",
       "        1975376.5 , 2174491.35, 2373606.2 , 2572721.05, 2771835.9 ,\n",
       "        2970950.75, 3170065.6 , 3369180.45, 3568295.3 , 3767410.15,\n",
       "        3966525.  ]),\n",
       " <BarContainer object of 20 artists>)"
      ]
     },
     "execution_count": 92,
     "metadata": {},
     "output_type": "execute_result"
    },
    {
     "data": {
      "image/png": "[encoded data removed]",
      "text/plain": [
       "<Figure size 432x288 with 1 Axes>"
      ]
     },
     "metadata": {
      "needs_background": "light"
     },
     "output_type": "display_data"
    }
   ],
   "source": [
    "plt.hist(df['Followers gained'], edgecolor='black', bins=20)"
   ]
  },
  {
   "cell_type": "code",
   "execution_count": 93,
   "id": "305fd46a",
   "metadata": {
    "scrolled": false
   },
   "outputs": [
    {
     "name": "stderr",
     "output_type": "stream",
     "text": [
      "D:\\anaconda3\\lib\\site-packages\\seaborn\\_decorators.py:36: FutureWarning: Pass the following variable as a keyword arg: x. From version 0.12, the only valid positional argument will be `data`, and passing other arguments without an explicit keyword will result in an error or misinterpretation.\n",
      "  warnings.warn(\n"
     ]
    },
    {
     "data": {
      "text/plain": [
       "<AxesSubplot:xlabel='Followers gained'>"
      ]
     },
     "execution_count": 93,
     "metadata": {},
     "output_type": "execute_result"
    },
    {
     "data": {
      "image/png": "[encoded data removed]",
      "text/plain": [
       "<Figure size 432x288 with 1 Axes>"
      ]
     },
     "metadata": {
      "needs_background": "light"
     },
     "output_type": "display_data"
    }
   ],
   "source": [
    "sns.boxplot(df['Followers gained'])"
   ]
  },
  {
   "cell_type": "code",
   "execution_count": 27,
   "id": "599199e0",
   "metadata": {
    "scrolled": true
   },
   "outputs": [
    {
     "data": {
      "text/plain": [
       "0.50      98352.00\n",
       "0.75     236130.75\n",
       "0.95     723135.85\n",
       "0.99    1602946.35\n",
       "Name: Followers gained, dtype: float64"
      ]
     },
     "execution_count": 27,
     "metadata": {},
     "output_type": "execute_result"
    }
   ],
   "source": [
    "df['Followers gained'].quantile([.5,.75,.95,.99])"
   ]
  },
  {
   "cell_type": "code",
   "execution_count": 38,
   "id": "cddf69f0",
   "metadata": {},
   "outputs": [
    {
     "data": {
      "text/html": [
       "<div>\n",
       "<style scoped>\n",
       "    .dataframe tbody tr th:only-of-type {\n",
       "        vertical-align: middle;\n",
       "    }\n",
       "\n",
       "    .dataframe tbody tr th {\n",
       "        vertical-align: top;\n",
       "    }\n",
       "\n",
       "    .dataframe thead th {\n",
       "        text-align: right;\n",
       "    }\n",
       "</style>\n",
       "<table border=\"1\" class=\"dataframe\">\n",
       "  <thead>\n",
       "    <tr style=\"text-align: right;\">\n",
       "      <th></th>\n",
       "      <th>Channel</th>\n",
       "      <th>Watch time(Minutes)</th>\n",
       "      <th>Stream time(minutes)</th>\n",
       "      <th>Peak viewers</th>\n",
       "      <th>Average viewers</th>\n",
       "      <th>Followers</th>\n",
       "      <th>Followers gained</th>\n",
       "      <th>Views gained</th>\n",
       "      <th>Partnered</th>\n",
       "      <th>Mature</th>\n",
       "      <th>Language</th>\n",
       "    </tr>\n",
       "  </thead>\n",
       "  <tbody>\n",
       "    <tr>\n",
       "      <th>0</th>\n",
       "      <td>xQcOW</td>\n",
       "      <td>6196161750</td>\n",
       "      <td>215250</td>\n",
       "      <td>222720</td>\n",
       "      <td>27716</td>\n",
       "      <td>3246298</td>\n",
       "      <td>1734810</td>\n",
       "      <td>93036735</td>\n",
       "      <td>True</td>\n",
       "      <td>False</td>\n",
       "      <td>English</td>\n",
       "    </tr>\n",
       "    <tr>\n",
       "      <th>4</th>\n",
       "      <td>Tfue</td>\n",
       "      <td>3671000070</td>\n",
       "      <td>123660</td>\n",
       "      <td>285644</td>\n",
       "      <td>29602</td>\n",
       "      <td>8938903</td>\n",
       "      <td>2068424</td>\n",
       "      <td>78998587</td>\n",
       "      <td>True</td>\n",
       "      <td>False</td>\n",
       "      <td>English</td>\n",
       "    </tr>\n",
       "    <tr>\n",
       "      <th>13</th>\n",
       "      <td>Rubius</td>\n",
       "      <td>2588632635</td>\n",
       "      <td>58275</td>\n",
       "      <td>240096</td>\n",
       "      <td>42948</td>\n",
       "      <td>5751354</td>\n",
       "      <td>3820532</td>\n",
       "      <td>58599449</td>\n",
       "      <td>True</td>\n",
       "      <td>False</td>\n",
       "      <td>Spanish</td>\n",
       "    </tr>\n",
       "    <tr>\n",
       "      <th>14</th>\n",
       "      <td>auronplay</td>\n",
       "      <td>2410022550</td>\n",
       "      <td>40575</td>\n",
       "      <td>170115</td>\n",
       "      <td>53986</td>\n",
       "      <td>3983847</td>\n",
       "      <td>3966525</td>\n",
       "      <td>41514854</td>\n",
       "      <td>True</td>\n",
       "      <td>False</td>\n",
       "      <td>Spanish</td>\n",
       "    </tr>\n",
       "    <tr>\n",
       "      <th>25</th>\n",
       "      <td>TheGrefg</td>\n",
       "      <td>1757406750</td>\n",
       "      <td>54855</td>\n",
       "      <td>538444</td>\n",
       "      <td>28887</td>\n",
       "      <td>3795667</td>\n",
       "      <td>3593081</td>\n",
       "      <td>47094362</td>\n",
       "      <td>True</td>\n",
       "      <td>False</td>\n",
       "      <td>Spanish</td>\n",
       "    </tr>\n",
       "    <tr>\n",
       "      <th>40</th>\n",
       "      <td>Fresh</td>\n",
       "      <td>1464179820</td>\n",
       "      <td>147660</td>\n",
       "      <td>57431</td>\n",
       "      <td>9728</td>\n",
       "      <td>3135667</td>\n",
       "      <td>1875187</td>\n",
       "      <td>25341820</td>\n",
       "      <td>True</td>\n",
       "      <td>False</td>\n",
       "      <td>English</td>\n",
       "    </tr>\n",
       "    <tr>\n",
       "      <th>51</th>\n",
       "      <td>Bugha</td>\n",
       "      <td>1324519320</td>\n",
       "      <td>100470</td>\n",
       "      <td>66311</td>\n",
       "      <td>12982</td>\n",
       "      <td>2942212</td>\n",
       "      <td>2220765</td>\n",
       "      <td>49441744</td>\n",
       "      <td>True</td>\n",
       "      <td>False</td>\n",
       "      <td>English</td>\n",
       "    </tr>\n",
       "    <tr>\n",
       "      <th>90</th>\n",
       "      <td>pokimane</td>\n",
       "      <td>964334055</td>\n",
       "      <td>56505</td>\n",
       "      <td>112160</td>\n",
       "      <td>16026</td>\n",
       "      <td>5367605</td>\n",
       "      <td>2085831</td>\n",
       "      <td>45579002</td>\n",
       "      <td>True</td>\n",
       "      <td>False</td>\n",
       "      <td>English</td>\n",
       "    </tr>\n",
       "    <tr>\n",
       "      <th>669</th>\n",
       "      <td>SLAKUN10</td>\n",
       "      <td>179262330</td>\n",
       "      <td>9555</td>\n",
       "      <td>48358</td>\n",
       "      <td>18906</td>\n",
       "      <td>1874932</td>\n",
       "      <td>1874846</td>\n",
       "      <td>5835029</td>\n",
       "      <td>True</td>\n",
       "      <td>False</td>\n",
       "      <td>Spanish</td>\n",
       "    </tr>\n",
       "  </tbody>\n",
       "</table>\n",
       "</div>"
      ],
      "text/plain": [
       "       Channel  Watch time(Minutes)  Stream time(minutes)  Peak viewers  \\\n",
       "0        xQcOW           6196161750                215250        222720   \n",
       "4         Tfue           3671000070                123660        285644   \n",
       "13      Rubius           2588632635                 58275        240096   \n",
       "14   auronplay           2410022550                 40575        170115   \n",
       "25    TheGrefg           1757406750                 54855        538444   \n",
       "40       Fresh           1464179820                147660         57431   \n",
       "51       Bugha           1324519320                100470         66311   \n",
       "90    pokimane            964334055                 56505        112160   \n",
       "669   SLAKUN10            179262330                  9555         48358   \n",
       "\n",
       "     Average viewers  Followers  Followers gained  Views gained  Partnered  \\\n",
       "0              27716    3246298           1734810      93036735       True   \n",
       "4              29602    8938903           2068424      78998587       True   \n",
       "13             42948    5751354           3820532      58599449       True   \n",
       "14             53986    3983847           3966525      41514854       True   \n",
       "25             28887    3795667           3593081      47094362       True   \n",
       "40              9728    3135667           1875187      25341820       True   \n",
       "51             12982    2942212           2220765      49441744       True   \n",
       "90             16026    5367605           2085831      45579002       True   \n",
       "669            18906    1874932           1874846       5835029       True   \n",
       "\n",
       "     Mature Language  \n",
       "0     False  English  \n",
       "4     False  English  \n",
       "13    False  Spanish  \n",
       "14    False  Spanish  \n",
       "25    False  Spanish  \n",
       "40    False  English  \n",
       "51    False  English  \n",
       "90    False  English  \n",
       "669   False  Spanish  "
      ]
     },
     "execution_count": 38,
     "metadata": {},
     "output_type": "execute_result"
    }
   ],
   "source": [
    "df[df['Followers gained']>1700000]"
   ]
  },
  {
   "cell_type": "code",
   "execution_count": 94,
   "id": "1ca73f49",
   "metadata": {},
   "outputs": [
    {
     "data": {
      "text/html": [
       "<div>\n",
       "<style scoped>\n",
       "    .dataframe tbody tr th:only-of-type {\n",
       "        vertical-align: middle;\n",
       "    }\n",
       "\n",
       "    .dataframe tbody tr th {\n",
       "        vertical-align: top;\n",
       "    }\n",
       "\n",
       "    .dataframe thead th {\n",
       "        text-align: right;\n",
       "    }\n",
       "</style>\n",
       "<table border=\"1\" class=\"dataframe\">\n",
       "  <thead>\n",
       "    <tr style=\"text-align: right;\">\n",
       "      <th></th>\n",
       "      <th>Channel</th>\n",
       "      <th>Watch time(Minutes)</th>\n",
       "      <th>Stream time(minutes)</th>\n",
       "      <th>Peak viewers</th>\n",
       "      <th>Average viewers</th>\n",
       "      <th>Followers</th>\n",
       "      <th>Followers gained</th>\n",
       "      <th>Views gained</th>\n",
       "      <th>Partnered</th>\n",
       "      <th>Mature</th>\n",
       "      <th>Language</th>\n",
       "    </tr>\n",
       "  </thead>\n",
       "  <tbody>\n",
       "    <tr>\n",
       "      <th>13</th>\n",
       "      <td>Rubius</td>\n",
       "      <td>2588632635</td>\n",
       "      <td>58275</td>\n",
       "      <td>240096</td>\n",
       "      <td>42948</td>\n",
       "      <td>5751354</td>\n",
       "      <td>3820532</td>\n",
       "      <td>58599449</td>\n",
       "      <td>True</td>\n",
       "      <td>False</td>\n",
       "      <td>Spanish</td>\n",
       "    </tr>\n",
       "    <tr>\n",
       "      <th>14</th>\n",
       "      <td>auronplay</td>\n",
       "      <td>2410022550</td>\n",
       "      <td>40575</td>\n",
       "      <td>170115</td>\n",
       "      <td>53986</td>\n",
       "      <td>3983847</td>\n",
       "      <td>3966525</td>\n",
       "      <td>41514854</td>\n",
       "      <td>True</td>\n",
       "      <td>False</td>\n",
       "      <td>Spanish</td>\n",
       "    </tr>\n",
       "    <tr>\n",
       "      <th>25</th>\n",
       "      <td>TheGrefg</td>\n",
       "      <td>1757406750</td>\n",
       "      <td>54855</td>\n",
       "      <td>538444</td>\n",
       "      <td>28887</td>\n",
       "      <td>3795667</td>\n",
       "      <td>3593081</td>\n",
       "      <td>47094362</td>\n",
       "      <td>True</td>\n",
       "      <td>False</td>\n",
       "      <td>Spanish</td>\n",
       "    </tr>\n",
       "  </tbody>\n",
       "</table>\n",
       "</div>"
      ],
      "text/plain": [
       "      Channel  Watch time(Minutes)  Stream time(minutes)  Peak viewers  \\\n",
       "13     Rubius           2588632635                 58275        240096   \n",
       "14  auronplay           2410022550                 40575        170115   \n",
       "25   TheGrefg           1757406750                 54855        538444   \n",
       "\n",
       "    Average viewers  Followers  Followers gained  Views gained  Partnered  \\\n",
       "13            42948    5751354           3820532      58599449       True   \n",
       "14            53986    3983847           3966525      41514854       True   \n",
       "25            28887    3795667           3593081      47094362       True   \n",
       "\n",
       "    Mature Language  \n",
       "13   False  Spanish  \n",
       "14   False  Spanish  \n",
       "25   False  Spanish  "
      ]
     },
     "execution_count": 94,
     "metadata": {},
     "output_type": "execute_result"
    }
   ],
   "source": [
    "df[df['Followers gained']>2500000]"
   ]
  },
  {
   "cell_type": "code",
   "execution_count": 39,
   "id": "7776dd30",
   "metadata": {},
   "outputs": [
    {
     "data": {
      "text/html": [
       "<div>\n",
       "<style scoped>\n",
       "    .dataframe tbody tr th:only-of-type {\n",
       "        vertical-align: middle;\n",
       "    }\n",
       "\n",
       "    .dataframe tbody tr th {\n",
       "        vertical-align: top;\n",
       "    }\n",
       "\n",
       "    .dataframe thead th {\n",
       "        text-align: right;\n",
       "    }\n",
       "</style>\n",
       "<table border=\"1\" class=\"dataframe\">\n",
       "  <thead>\n",
       "    <tr style=\"text-align: right;\">\n",
       "      <th></th>\n",
       "      <th>Watch time(Minutes)</th>\n",
       "      <th>Stream time(minutes)</th>\n",
       "      <th>Peak viewers</th>\n",
       "      <th>Average viewers</th>\n",
       "      <th>Followers</th>\n",
       "      <th>Followers gained</th>\n",
       "      <th>Views gained</th>\n",
       "    </tr>\n",
       "  </thead>\n",
       "  <tbody>\n",
       "    <tr>\n",
       "      <th>count</th>\n",
       "      <td>9.000000e+00</td>\n",
       "      <td>9.000000</td>\n",
       "      <td>9.000000</td>\n",
       "      <td>9.000000</td>\n",
       "      <td>9.000000e+00</td>\n",
       "      <td>9.000000e+00</td>\n",
       "      <td>9.000000e+00</td>\n",
       "    </tr>\n",
       "    <tr>\n",
       "      <th>mean</th>\n",
       "      <td>2.283947e+09</td>\n",
       "      <td>89645.000000</td>\n",
       "      <td>193475.444444</td>\n",
       "      <td>26753.444444</td>\n",
       "      <td>4.337387e+06</td>\n",
       "      <td>2.582222e+06</td>\n",
       "      <td>4.949351e+07</td>\n",
       "    </tr>\n",
       "    <tr>\n",
       "      <th>std</th>\n",
       "      <td>1.781113e+09</td>\n",
       "      <td>63768.635217</td>\n",
       "      <td>155492.338450</td>\n",
       "      <td>14463.952789</td>\n",
       "      <td>2.100531e+06</td>\n",
       "      <td>9.240517e+05</td>\n",
       "      <td>2.603744e+07</td>\n",
       "    </tr>\n",
       "    <tr>\n",
       "      <th>min</th>\n",
       "      <td>1.792623e+08</td>\n",
       "      <td>9555.000000</td>\n",
       "      <td>48358.000000</td>\n",
       "      <td>9728.000000</td>\n",
       "      <td>1.874932e+06</td>\n",
       "      <td>1.734810e+06</td>\n",
       "      <td>5.835029e+06</td>\n",
       "    </tr>\n",
       "    <tr>\n",
       "      <th>25%</th>\n",
       "      <td>1.324519e+09</td>\n",
       "      <td>54855.000000</td>\n",
       "      <td>66311.000000</td>\n",
       "      <td>16026.000000</td>\n",
       "      <td>3.135667e+06</td>\n",
       "      <td>1.875187e+06</td>\n",
       "      <td>4.151485e+07</td>\n",
       "    </tr>\n",
       "    <tr>\n",
       "      <th>50%</th>\n",
       "      <td>1.757407e+09</td>\n",
       "      <td>58275.000000</td>\n",
       "      <td>170115.000000</td>\n",
       "      <td>27716.000000</td>\n",
       "      <td>3.795667e+06</td>\n",
       "      <td>2.085831e+06</td>\n",
       "      <td>4.709436e+07</td>\n",
       "    </tr>\n",
       "    <tr>\n",
       "      <th>75%</th>\n",
       "      <td>2.588633e+09</td>\n",
       "      <td>123660.000000</td>\n",
       "      <td>240096.000000</td>\n",
       "      <td>29602.000000</td>\n",
       "      <td>5.367605e+06</td>\n",
       "      <td>3.593081e+06</td>\n",
       "      <td>5.859945e+07</td>\n",
       "    </tr>\n",
       "    <tr>\n",
       "      <th>max</th>\n",
       "      <td>6.196162e+09</td>\n",
       "      <td>215250.000000</td>\n",
       "      <td>538444.000000</td>\n",
       "      <td>53986.000000</td>\n",
       "      <td>8.938903e+06</td>\n",
       "      <td>3.966525e+06</td>\n",
       "      <td>9.303674e+07</td>\n",
       "    </tr>\n",
       "  </tbody>\n",
       "</table>\n",
       "</div>"
      ],
      "text/plain": [
       "       Watch time(Minutes)  Stream time(minutes)   Peak viewers  \\\n",
       "count         9.000000e+00              9.000000       9.000000   \n",
       "mean          2.283947e+09          89645.000000  193475.444444   \n",
       "std           1.781113e+09          63768.635217  155492.338450   \n",
       "min           1.792623e+08           9555.000000   48358.000000   \n",
       "25%           1.324519e+09          54855.000000   66311.000000   \n",
       "50%           1.757407e+09          58275.000000  170115.000000   \n",
       "75%           2.588633e+09         123660.000000  240096.000000   \n",
       "max           6.196162e+09         215250.000000  538444.000000   \n",
       "\n",
       "       Average viewers     Followers  Followers gained  Views gained  \n",
       "count         9.000000  9.000000e+00      9.000000e+00  9.000000e+00  \n",
       "mean      26753.444444  4.337387e+06      2.582222e+06  4.949351e+07  \n",
       "std       14463.952789  2.100531e+06      9.240517e+05  2.603744e+07  \n",
       "min        9728.000000  1.874932e+06      1.734810e+06  5.835029e+06  \n",
       "25%       16026.000000  3.135667e+06      1.875187e+06  4.151485e+07  \n",
       "50%       27716.000000  3.795667e+06      2.085831e+06  4.709436e+07  \n",
       "75%       29602.000000  5.367605e+06      3.593081e+06  5.859945e+07  \n",
       "max       53986.000000  8.938903e+06      3.966525e+06  9.303674e+07  "
      ]
     },
     "execution_count": 39,
     "metadata": {},
     "output_type": "execute_result"
    }
   ],
   "source": [
    "df[df['Followers gained']>1700000].describe()"
   ]
  },
  {
   "cell_type": "code",
   "execution_count": 17,
   "id": "50af9abe",
   "metadata": {},
   "outputs": [
    {
     "data": {
      "text/plain": [
       "(array([938.,  48.,  10.,   3.,   0.,   0.,   0.,   0.,   0.,   0.,   0.,\n",
       "          0.,   0.,   0.,   0.,   0.,   0.,   0.,   0.,   1.]),\n",
       " array([1.75788000e+05, 3.36738760e+07, 6.71719640e+07, 1.00670052e+08,\n",
       "        1.34168140e+08, 1.67666228e+08, 2.01164316e+08, 2.34662404e+08,\n",
       "        2.68160492e+08, 3.01658580e+08, 3.35156668e+08, 3.68654756e+08,\n",
       "        4.02152844e+08, 4.35650932e+08, 4.69149020e+08, 5.02647108e+08,\n",
       "        5.36145196e+08, 5.69643284e+08, 6.03141372e+08, 6.36639460e+08,\n",
       "        6.70137548e+08]),\n",
       " <BarContainer object of 20 artists>)"
      ]
     },
     "execution_count": 17,
     "metadata": {},
     "output_type": "execute_result"
    },
    {
     "data": {
      "image/png": "[encoded data removed]",
      "text/plain": [
       "<Figure size 432x288 with 1 Axes>"
      ]
     },
     "metadata": {
      "needs_background": "light"
     },
     "output_type": "display_data"
    }
   ],
   "source": [
    "plt.hist(df['Views gained'], edgecolor='black', bins=20)"
   ]
  },
  {
   "cell_type": "code",
   "execution_count": 56,
   "id": "a41f2b11",
   "metadata": {
    "scrolled": false
   },
   "outputs": [
    {
     "name": "stderr",
     "output_type": "stream",
     "text": [
      "D:\\anaconda3\\lib\\site-packages\\seaborn\\_decorators.py:36: FutureWarning: Pass the following variable as a keyword arg: x. From version 0.12, the only valid positional argument will be `data`, and passing other arguments without an explicit keyword will result in an error or misinterpretation.\n",
      "  warnings.warn(\n"
     ]
    },
    {
     "data": {
      "text/plain": [
       "<AxesSubplot:xlabel='Views gained'>"
      ]
     },
     "execution_count": 56,
     "metadata": {},
     "output_type": "execute_result"
    },
    {
     "data": {
      "image/png": "[encoded data removed]",
      "text/plain": [
       "<Figure size 432x288 with 1 Axes>"
      ]
     },
     "metadata": {
      "needs_background": "light"
     },
     "output_type": "display_data"
    }
   ],
   "source": [
    "sns.boxplot(df['Views gained'])"
   ]
  },
  {
   "cell_type": "code",
   "execution_count": 57,
   "id": "86d48530",
   "metadata": {},
   "outputs": [
    {
     "data": {
      "text/plain": [
       "0.50     6456323.50\n",
       "0.75    12196762.00\n",
       "0.95    39340043.00\n",
       "0.99    76253216.02\n",
       "Name: Views gained, dtype: float64"
      ]
     },
     "execution_count": 57,
     "metadata": {},
     "output_type": "execute_result"
    }
   ],
   "source": [
    "df['Views gained'].quantile([.5,.75,.95,.99])"
   ]
  },
  {
   "cell_type": "code",
   "execution_count": 4,
   "id": "dd92a83b",
   "metadata": {
    "scrolled": true
   },
   "outputs": [
    {
     "data": {
      "text/html": [
       "<div>\n",
       "<style scoped>\n",
       "    .dataframe tbody tr th:only-of-type {\n",
       "        vertical-align: middle;\n",
       "    }\n",
       "\n",
       "    .dataframe tbody tr th {\n",
       "        vertical-align: top;\n",
       "    }\n",
       "\n",
       "    .dataframe thead th {\n",
       "        text-align: right;\n",
       "    }\n",
       "</style>\n",
       "<table border=\"1\" class=\"dataframe\">\n",
       "  <thead>\n",
       "    <tr style=\"text-align: right;\">\n",
       "      <th></th>\n",
       "      <th>Channel</th>\n",
       "      <th>Watch time(Minutes)</th>\n",
       "      <th>Stream time(minutes)</th>\n",
       "      <th>Peak viewers</th>\n",
       "      <th>Average viewers</th>\n",
       "      <th>Followers</th>\n",
       "      <th>Followers gained</th>\n",
       "      <th>Views gained</th>\n",
       "      <th>Partnered</th>\n",
       "      <th>Mature</th>\n",
       "      <th>Language</th>\n",
       "    </tr>\n",
       "  </thead>\n",
       "  <tbody>\n",
       "    <tr>\n",
       "      <th>7</th>\n",
       "      <td>Fextralife</td>\n",
       "      <td>3301867485</td>\n",
       "      <td>147885</td>\n",
       "      <td>68795</td>\n",
       "      <td>18985</td>\n",
       "      <td>508816</td>\n",
       "      <td>425468</td>\n",
       "      <td>670137548</td>\n",
       "      <td>True</td>\n",
       "      <td>False</td>\n",
       "      <td>English</td>\n",
       "    </tr>\n",
       "  </tbody>\n",
       "</table>\n",
       "</div>"
      ],
      "text/plain": [
       "      Channel  Watch time(Minutes)  Stream time(minutes)  Peak viewers  \\\n",
       "7  Fextralife           3301867485                147885         68795   \n",
       "\n",
       "   Average viewers  Followers  Followers gained  Views gained  Partnered  \\\n",
       "7            18985     508816            425468     670137548       True   \n",
       "\n",
       "   Mature Language  \n",
       "7   False  English  "
      ]
     },
     "execution_count": 4,
     "metadata": {},
     "output_type": "execute_result"
    }
   ],
   "source": [
    "df[df['Views gained']>150000000]"
   ]
  },
  {
   "cell_type": "code",
   "execution_count": 58,
   "id": "ad3c807b",
   "metadata": {},
   "outputs": [],
   "source": [
    "df.drop(7, axis=0, inplace=True)"
   ]
  },
  {
   "cell_type": "code",
   "execution_count": 85,
   "id": "9c7fb273",
   "metadata": {},
   "outputs": [
    {
     "name": "stderr",
     "output_type": "stream",
     "text": [
      "D:\\anaconda3\\lib\\site-packages\\seaborn\\_decorators.py:36: FutureWarning: Pass the following variable as a keyword arg: x. From version 0.12, the only valid positional argument will be `data`, and passing other arguments without an explicit keyword will result in an error or misinterpretation.\n",
      "  warnings.warn(\n"
     ]
    },
    {
     "data": {
      "text/plain": [
       "<AxesSubplot:xlabel='Views gained'>"
      ]
     },
     "execution_count": 85,
     "metadata": {},
     "output_type": "execute_result"
    },
    {
     "data": {
      "image/png": "[encoded data removed]",
      "text/plain": [
       "<Figure size 432x288 with 1 Axes>"
      ]
     },
     "metadata": {
      "needs_background": "light"
     },
     "output_type": "display_data"
    }
   ],
   "source": [
    "sns.boxplot(df['Views gained'])"
   ]
  },
  {
   "cell_type": "code",
   "execution_count": 113,
   "id": "94e083ee",
   "metadata": {},
   "outputs": [
    {
     "data": {
      "text/plain": [
       "<AxesSubplot:ylabel='Partnered'>"
      ]
     },
     "execution_count": 113,
     "metadata": {},
     "output_type": "execute_result"
    },
    {
     "data": {
      "image/png": "[encoded data removed]",
      "text/plain": [
       "<Figure size 432x288 with 1 Axes>"
      ]
     },
     "metadata": {},
     "output_type": "display_data"
    }
   ],
   "source": [
    "fig, ax = plt.subplots()\n",
    "df['Partnered'].value_counts().plot(ax=ax, kind='pie')"
   ]
  },
  {
   "cell_type": "code",
   "execution_count": 111,
   "id": "945352f2",
   "metadata": {},
   "outputs": [
    {
     "data": {
      "text/plain": [
       "<AxesSubplot:ylabel='Mature'>"
      ]
     },
     "execution_count": 111,
     "metadata": {},
     "output_type": "execute_result"
    },
    {
     "data": {
      "image/png": "[encoded data removed]",
      "text/plain": [
       "<Figure size 432x288 with 1 Axes>"
      ]
     },
     "metadata": {},
     "output_type": "display_data"
    }
   ],
   "source": [
    "fig, ax = plt.subplots()\n",
    "df['Mature'].value_counts().plot(ax=ax, kind='pie')"
   ]
  },
  {
   "cell_type": "code",
   "execution_count": 114,
   "id": "fc616680",
   "metadata": {},
   "outputs": [
    {
     "data": {
      "text/plain": [
       "<AxesSubplot:>"
      ]
     },
     "execution_count": 114,
     "metadata": {},
     "output_type": "execute_result"
    },
    {
     "data": {
      "image/png": "[encoded data removed]",
      "text/plain": [
       "<Figure size 432x288 with 1 Axes>"
      ]
     },
     "metadata": {
      "needs_background": "light"
     },
     "output_type": "display_data"
    }
   ],
   "source": [
    "fig, ax = plt.subplots()\n",
    "df['Language'].value_counts().plot(ax=ax, kind='bar')"
   ]
  },
  {
   "cell_type": "code",
   "execution_count": 119,
   "id": "7deb941e",
   "metadata": {},
   "outputs": [
    {
     "data": {
      "text/plain": [
       "<AxesSubplot:ylabel='Language'>"
      ]
     },
     "execution_count": 119,
     "metadata": {},
     "output_type": "execute_result"
    },
    {
     "data": {
      "image/png": "[encoded data removed]",
      "text/plain": [
       "<Figure size 720x720 with 1 Axes>"
      ]
     },
     "metadata": {},
     "output_type": "display_data"
    }
   ],
   "source": [
    "fig, ax = plt.subplots()\n",
    "df['Language'].value_counts().plot(ax=ax, kind='pie', figsize=(10, 10))"
   ]
  },
  {
   "cell_type": "code",
   "execution_count": 98,
   "id": "2a64e606",
   "metadata": {},
   "outputs": [
    {
     "data": {
      "text/plain": [
       "Text(0, 0.5, 'Followers')"
      ]
     },
     "execution_count": 98,
     "metadata": {},
     "output_type": "execute_result"
    },
    {
     "data": {
      "image/png": "[encoded data removed]",
      "text/plain": [
       "<Figure size 432x288 with 1 Axes>"
      ]
     },
     "metadata": {
      "needs_background": "light"
     },
     "output_type": "display_data"
    }
   ],
   "source": [
    "plt.scatter(df['Watch time(Minutes)'],df['Followers'])\n",
    "plt.xlabel('Watch time(Minutes)')\n",
    "plt.ylabel('Followers')"
   ]
  },
  {
   "cell_type": "code",
   "execution_count": 120,
   "id": "b4a002ef",
   "metadata": {},
   "outputs": [
    {
     "data": {
      "text/plain": [
       "Text(0, 0.5, 'Stream time(minutes)')"
      ]
     },
     "execution_count": 120,
     "metadata": {},
     "output_type": "execute_result"
    },
    {
     "data": {
      "image/png": "[encoded data removed]",
      "text/plain": [
       "<Figure size 432x288 with 1 Axes>"
      ]
     },
     "metadata": {
      "needs_background": "light"
     },
     "output_type": "display_data"
    }
   ],
   "source": [
    "plt.scatter(df['Watch time(Minutes)'],df['Stream time(minutes)'])\n",
    "plt.xlabel('Watch time(Minutes)')\n",
    "plt.ylabel('Stream time(minutes)')"
   ]
  },
  {
   "cell_type": "code",
   "execution_count": 100,
   "id": "7efef0ec",
   "metadata": {},
   "outputs": [
    {
     "data": {
      "text/plain": [
       "Text(0, 0.5, 'Average viewers')"
      ]
     },
     "execution_count": 100,
     "metadata": {},
     "output_type": "execute_result"
    },
    {
     "data": {
      "image/png": "[encoded data removed]",
      "text/plain": [
       "<Figure size 432x288 with 1 Axes>"
      ]
     },
     "metadata": {
      "needs_background": "light"
     },
     "output_type": "display_data"
    }
   ],
   "source": [
    "plt.scatter(df['Watch time(Minutes)'],df['Average viewers'])\n",
    "plt.xlabel('Watch time(Minutes)')\n",
    "plt.ylabel('Average viewers')"
   ]
  },
  {
   "cell_type": "code",
   "execution_count": 124,
   "id": "60e01967",
   "metadata": {},
   "outputs": [
    {
     "data": {
      "text/plain": [
       "Text(0, 0.5, 'Partnered')"
      ]
     },
     "execution_count": 124,
     "metadata": {},
     "output_type": "execute_result"
    },
    {
     "data": {
      "image/png": "[encoded data removed]",
      "text/plain": [
       "<Figure size 432x288 with 1 Axes>"
      ]
     },
     "metadata": {
      "needs_background": "light"
     },
     "output_type": "display_data"
    }
   ],
   "source": [
    "plt.scatter(df['Watch time(Minutes)'],df['Partnered'])\n",
    "plt.xlabel('Watch time(Minutes)')\n",
    "plt.ylabel('Partnered')"
   ]
  },
  {
   "cell_type": "code",
   "execution_count": 102,
   "id": "ce264318",
   "metadata": {},
   "outputs": [
    {
     "data": {
      "text/plain": [
       "Text(0, 0.5, 'Language')"
      ]
     },
     "execution_count": 102,
     "metadata": {},
     "output_type": "execute_result"
    },
    {
     "data": {
      "image/png": "[encoded data removed]",
      "text/plain": [
       "<Figure size 432x288 with 1 Axes>"
      ]
     },
     "metadata": {
      "needs_background": "light"
     },
     "output_type": "display_data"
    }
   ],
   "source": [
    "plt.scatter(df['Watch time(Minutes)'],df['Language'])\n",
    "plt.xlabel('Watch time(Minutes)')\n",
    "plt.ylabel('Language')"
   ]
  },
  {
   "cell_type": "code",
   "execution_count": 103,
   "id": "f6969938",
   "metadata": {},
   "outputs": [
    {
     "data": {
      "text/plain": [
       "Text(0, 0.5, 'Followers')"
      ]
     },
     "execution_count": 103,
     "metadata": {},
     "output_type": "execute_result"
    },
    {
     "data": {
      "image/png": "[encoded data removed]",
      "text/plain": [
       "<Figure size 432x288 with 1 Axes>"
      ]
     },
     "metadata": {
      "needs_background": "light"
     },
     "output_type": "display_data"
    }
   ],
   "source": [
    "plt.scatter(df['Average viewers'],df['Followers'])\n",
    "plt.xlabel('Average viewers')\n",
    "plt.ylabel('Followers')"
   ]
  },
  {
   "cell_type": "code",
   "execution_count": 104,
   "id": "0394f0d7",
   "metadata": {},
   "outputs": [
    {
     "data": {
      "text/plain": [
       "Text(0, 0.5, 'Language')"
      ]
     },
     "execution_count": 104,
     "metadata": {},
     "output_type": "execute_result"
    },
    {
     "data": {
      "image/png": "[encoded data removed]",
      "text/plain": [
       "<Figure size 432x288 with 1 Axes>"
      ]
     },
     "metadata": {
      "needs_background": "light"
     },
     "output_type": "display_data"
    }
   ],
   "source": [
    "plt.scatter(df['Average viewers'],df['Language'])\n",
    "plt.xlabel('Average viewers')\n",
    "plt.ylabel('Language')"
   ]
  },
  {
   "cell_type": "code",
   "execution_count": 105,
   "id": "325820f7",
   "metadata": {},
   "outputs": [
    {
     "data": {
      "text/plain": [
       "Text(0, 0.5, 'Stream time(minutes)')"
      ]
     },
     "execution_count": 105,
     "metadata": {},
     "output_type": "execute_result"
    },
    {
     "data": {
      "image/png": "[encoded data removed]",
      "text/plain": [
       "<Figure size 432x288 with 1 Axes>"
      ]
     },
     "metadata": {
      "needs_background": "light"
     },
     "output_type": "display_data"
    }
   ],
   "source": [
    "plt.scatter(df['Average viewers'],df['Stream time(minutes)'])\n",
    "plt.xlabel('Average viewers')\n",
    "plt.ylabel('Stream time(minutes)')         "
   ]
  },
  {
   "cell_type": "code",
   "execution_count": 107,
   "id": "9960c527",
   "metadata": {},
   "outputs": [
    {
     "data": {
      "text/plain": [
       "Text(0, 0.5, 'Partnered')"
      ]
     },
     "execution_count": 107,
     "metadata": {},
     "output_type": "execute_result"
    },
    {
     "data": {
      "image/png": "[encoded data removed]",
      "text/plain": [
       "<Figure size 432x288 with 1 Axes>"
      ]
     },
     "metadata": {
      "needs_background": "light"
     },
     "output_type": "display_data"
    }
   ],
   "source": [
    "plt.scatter(df['Average viewers'],df['Partnered'])\n",
    "plt.xlabel('Average viewers')\n",
    "plt.ylabel('Partnered')         "
   ]
  },
  {
   "cell_type": "code",
   "execution_count": 125,
   "id": "0a26c451",
   "metadata": {},
   "outputs": [
    {
     "data": {
      "text/plain": [
       "Text(0, 0.5, 'Stream time(minutes)')"
      ]
     },
     "execution_count": 125,
     "metadata": {},
     "output_type": "execute_result"
    },
    {
     "data": {
      "image/png": "[encoded data removed]",
      "text/plain": [
       "<Figure size 432x288 with 1 Axes>"
      ]
     },
     "metadata": {
      "needs_background": "light"
     },
     "output_type": "display_data"
    }
   ],
   "source": [
    "plt.scatter(df['Followers gained'],df['Stream time(minutes)'])\n",
    "plt.xlabel('Followers gained')\n",
    "plt.ylabel('Stream time(minutes)')"
   ]
  },
  {
   "cell_type": "code",
   "execution_count": 127,
   "id": "945d5e48",
   "metadata": {},
   "outputs": [
    {
     "data": {
      "text/plain": [
       "Text(0, 0.5, 'Watch time(Minutes)')"
      ]
     },
     "execution_count": 127,
     "metadata": {},
     "output_type": "execute_result"
    },
    {
     "data": {
      "image/png": "[encoded data removed]",
      "text/plain": [
       "<Figure size 432x288 with 1 Axes>"
      ]
     },
     "metadata": {
      "needs_background": "light"
     },
     "output_type": "display_data"
    }
   ],
   "source": [
    "plt.scatter(df['Followers gained'],df['Watch time(Minutes)'])\n",
    "plt.xlabel('Followers gained')\n",
    "plt.ylabel('Watch time(Minutes)')"
   ]
  },
  {
   "cell_type": "code",
   "execution_count": 128,
   "id": "883c9d96",
   "metadata": {},
   "outputs": [
    {
     "data": {
      "text/plain": [
       "Text(0, 0.5, 'Average viewers')"
      ]
     },
     "execution_count": 128,
     "metadata": {},
     "output_type": "execute_result"
    },
    {
     "data": {
      "image/png": "[encoded data removed]",
      "text/plain": [
       "<Figure size 432x288 with 1 Axes>"
      ]
     },
     "metadata": {
      "needs_background": "light"
     },
     "output_type": "display_data"
    }
   ],
   "source": [
    "plt.scatter(df['Followers gained'],df['Average viewers'])\n",
    "plt.xlabel('Followers gained')\n",
    "plt.ylabel('Average viewers')"
   ]
  },
  {
   "cell_type": "code",
   "execution_count": 129,
   "id": "b96004a6",
   "metadata": {},
   "outputs": [
    {
     "data": {
      "text/plain": [
       "Text(0, 0.5, 'Peak viewers')"
      ]
     },
     "execution_count": 129,
     "metadata": {},
     "output_type": "execute_result"
    },
    {
     "data": {
      "image/png": "[encoded data removed]",
      "text/plain": [
       "<Figure size 432x288 with 1 Axes>"
      ]
     },
     "metadata": {
      "needs_background": "light"
     },
     "output_type": "display_data"
    }
   ],
   "source": [
    "plt.scatter(df['Followers gained'],df['Peak viewers'])\n",
    "plt.xlabel('Followers gained')\n",
    "plt.ylabel('Peak viewers')"
   ]
  },
  {
   "cell_type": "code",
   "execution_count": 130,
   "id": "9932d3cc",
   "metadata": {},
   "outputs": [
    {
     "data": {
      "text/plain": [
       "Text(0, 0.5, 'Followers')"
      ]
     },
     "execution_count": 130,
     "metadata": {},
     "output_type": "execute_result"
    },
    {
     "data": {
      "image/png": "[encoded data removed]",
      "text/plain": [
       "<Figure size 432x288 with 1 Axes>"
      ]
     },
     "metadata": {
      "needs_background": "light"
     },
     "output_type": "display_data"
    }
   ],
   "source": [
    "plt.scatter(df['Followers gained'],df['Followers'])\n",
    "plt.xlabel('Followers gained')\n",
    "plt.ylabel('Followers')"
   ]
  },
  {
   "cell_type": "code",
   "execution_count": 131,
   "id": "fd256c54",
   "metadata": {},
   "outputs": [
    {
     "data": {
      "text/plain": [
       "Text(0, 0.5, 'Views gained')"
      ]
     },
     "execution_count": 131,
     "metadata": {},
     "output_type": "execute_result"
    },
    {
     "data": {
      "image/png": "[encoded data removed]",
      "text/plain": [
       "<Figure size 432x288 with 1 Axes>"
      ]
     },
     "metadata": {
      "needs_background": "light"
     },
     "output_type": "display_data"
    }
   ],
   "source": [
    "plt.scatter(df['Followers gained'],df['Views gained'])\n",
    "plt.xlabel('Followers gained')\n",
    "plt.ylabel('Views gained')"
   ]
  },
  {
   "cell_type": "code",
   "execution_count": 132,
   "id": "0dd7dda2",
   "metadata": {},
   "outputs": [
    {
     "data": {
      "text/plain": [
       "Text(0, 0.5, 'Partnered')"
      ]
     },
     "execution_count": 132,
     "metadata": {},
     "output_type": "execute_result"
    },
    {
     "data": {
      "image/png": "[encoded data removed]",
      "text/plain": [
       "<Figure size 432x288 with 1 Axes>"
      ]
     },
     "metadata": {
      "needs_background": "light"
     },
     "output_type": "display_data"
    }
   ],
   "source": [
    "plt.scatter(df['Followers gained'],df['Partnered'])\n",
    "plt.xlabel('Followers gained')\n",
    "plt.ylabel('Partnered')"
   ]
  },
  {
   "cell_type": "code",
   "execution_count": 133,
   "id": "7a6c6914",
   "metadata": {},
   "outputs": [
    {
     "data": {
      "text/plain": [
       "Text(0, 0.5, 'Mature')"
      ]
     },
     "execution_count": 133,
     "metadata": {},
     "output_type": "execute_result"
    },
    {
     "data": {
      "image/png": "[encoded data removed]",
      "text/plain": [
       "<Figure size 432x288 with 1 Axes>"
      ]
     },
     "metadata": {
      "needs_background": "light"
     },
     "output_type": "display_data"
    }
   ],
   "source": [
    "plt.scatter(df['Followers gained'],df['Mature'])\n",
    "plt.xlabel('Followers gained')\n",
    "plt.ylabel('Mature')"
   ]
  },
  {
   "cell_type": "code",
   "execution_count": 134,
   "id": "31c7324a",
   "metadata": {
    "scrolled": true
   },
   "outputs": [
    {
     "data": {
      "text/plain": [
       "Text(0, 0.5, 'Language')"
      ]
     },
     "execution_count": 134,
     "metadata": {},
     "output_type": "execute_result"
    },
    {
     "data": {
      "image/png": "[encoded data removed]",
      "text/plain": [
       "<Figure size 432x288 with 1 Axes>"
      ]
     },
     "metadata": {
      "needs_background": "light"
     },
     "output_type": "display_data"
    }
   ],
   "source": [
    "plt.scatter(df['Followers gained'],df['Language'])\n",
    "plt.xlabel('Followers gained')\n",
    "plt.ylabel('Language')"
   ]
  },
  {
   "cell_type": "code",
   "execution_count": 135,
   "id": "03e7a57f",
   "metadata": {},
   "outputs": [
    {
     "data": {
      "text/plain": [
       "Text(0, 0.5, 'Watch time(Minutes)')"
      ]
     },
     "execution_count": 135,
     "metadata": {},
     "output_type": "execute_result"
    },
    {
     "data": {
      "image/png": "[encoded data removed]",
      "text/plain": [
       "<Figure size 432x288 with 1 Axes>"
      ]
     },
     "metadata": {
      "needs_background": "light"
     },
     "output_type": "display_data"
    }
   ],
   "source": [
    "plt.scatter(df['Views gained'],df['Watch time(Minutes)'])\n",
    "plt.xlabel('Views gained')\n",
    "plt.ylabel('Watch time(Minutes)')"
   ]
  },
  {
   "cell_type": "code",
   "execution_count": 136,
   "id": "dddded71",
   "metadata": {},
   "outputs": [
    {
     "data": {
      "text/plain": [
       "Text(0, 0.5, 'Stream time(minutes)')"
      ]
     },
     "execution_count": 136,
     "metadata": {},
     "output_type": "execute_result"
    },
    {
     "data": {
      "image/png": "[encoded data removed]",
      "text/plain": [
       "<Figure size 432x288 with 1 Axes>"
      ]
     },
     "metadata": {
      "needs_background": "light"
     },
     "output_type": "display_data"
    }
   ],
   "source": [
    "plt.scatter(df['Views gained'],df['Stream time(minutes)'])\n",
    "plt.xlabel('Views gained')\n",
    "plt.ylabel('Stream time(minutes)')"
   ]
  },
  {
   "cell_type": "code",
   "execution_count": 137,
   "id": "1c8d39ef",
   "metadata": {},
   "outputs": [
    {
     "data": {
      "text/plain": [
       "Text(0, 0.5, 'Peak viewers')"
      ]
     },
     "execution_count": 137,
     "metadata": {},
     "output_type": "execute_result"
    },
    {
     "data": {
      "image/png": "[encoded data removed]",
      "text/plain": [
       "<Figure size 432x288 with 1 Axes>"
      ]
     },
     "metadata": {
      "needs_background": "light"
     },
     "output_type": "display_data"
    }
   ],
   "source": [
    "plt.scatter(df['Views gained'],df['Peak viewers'])\n",
    "plt.xlabel('Views gained')\n",
    "plt.ylabel('Peak viewers')"
   ]
  },
  {
   "cell_type": "code",
   "execution_count": 138,
   "id": "bd8e558f",
   "metadata": {},
   "outputs": [
    {
     "data": {
      "text/plain": [
       "Text(0, 0.5, 'Average viewers')"
      ]
     },
     "execution_count": 138,
     "metadata": {},
     "output_type": "execute_result"
    },
    {
     "data": {
      "image/png": "[encoded data removed]",
      "text/plain": [
       "<Figure size 432x288 with 1 Axes>"
      ]
     },
     "metadata": {
      "needs_background": "light"
     },
     "output_type": "display_data"
    }
   ],
   "source": [
    "plt.scatter(df['Views gained'],df['Average viewers'])\n",
    "plt.xlabel('Views gained')\n",
    "plt.ylabel('Average viewers')"
   ]
  },
  {
   "cell_type": "code",
   "execution_count": 139,
   "id": "2e9ffcae",
   "metadata": {},
   "outputs": [
    {
     "data": {
      "text/plain": [
       "Text(0, 0.5, 'Followers')"
      ]
     },
     "execution_count": 139,
     "metadata": {},
     "output_type": "execute_result"
    },
    {
     "data": {
      "image/png": "[encoded data removed]",
      "text/plain": [
       "<Figure size 432x288 with 1 Axes>"
      ]
     },
     "metadata": {
      "needs_background": "light"
     },
     "output_type": "display_data"
    }
   ],
   "source": [
    "plt.scatter(df['Views gained'],df['Followers'])\n",
    "plt.xlabel('Views gained')\n",
    "plt.ylabel('Followers')"
   ]
  },
  {
   "cell_type": "code",
   "execution_count": 140,
   "id": "13b01f99",
   "metadata": {},
   "outputs": [
    {
     "data": {
      "text/plain": [
       "Text(0, 0.5, 'Followers gained')"
      ]
     },
     "execution_count": 140,
     "metadata": {},
     "output_type": "execute_result"
    },
    {
     "data": {
      "image/png": "[encoded data removed]",
      "text/plain": [
       "<Figure size 432x288 with 1 Axes>"
      ]
     },
     "metadata": {
      "needs_background": "light"
     },
     "output_type": "display_data"
    }
   ],
   "source": [
    "plt.scatter(df['Views gained'],df['Followers gained'])\n",
    "plt.xlabel('Views gained')\n",
    "plt.ylabel('Followers gained')"
   ]
  },
  {
   "cell_type": "code",
   "execution_count": 141,
   "id": "261be23e",
   "metadata": {
    "scrolled": true
   },
   "outputs": [
    {
     "data": {
      "text/plain": [
       "Text(0, 0.5, 'Partnered')"
      ]
     },
     "execution_count": 141,
     "metadata": {},
     "output_type": "execute_result"
    },
    {
     "data": {
      "image/png": "[encoded data removed]",
      "text/plain": [
       "<Figure size 432x288 with 1 Axes>"
      ]
     },
     "metadata": {
      "needs_background": "light"
     },
     "output_type": "display_data"
    }
   ],
   "source": [
    "plt.scatter(df['Views gained'],df['Partnered'])\n",
    "plt.xlabel('Views gained')\n",
    "plt.ylabel('Partnered')"
   ]
  },
  {
   "cell_type": "code",
   "execution_count": 142,
   "id": "b616a178",
   "metadata": {},
   "outputs": [
    {
     "data": {
      "text/plain": [
       "Text(0, 0.5, 'Mature')"
      ]
     },
     "execution_count": 142,
     "metadata": {},
     "output_type": "execute_result"
    },
    {
     "data": {
      "image/png": "[encoded data removed]",
      "text/plain": [
       "<Figure size 432x288 with 1 Axes>"
      ]
     },
     "metadata": {
      "needs_background": "light"
     },
     "output_type": "display_data"
    }
   ],
   "source": [
    "plt.scatter(df['Views gained'],df['Mature'])\n",
    "plt.xlabel('Views gained')\n",
    "plt.ylabel('Mature')"
   ]
  },
  {
   "cell_type": "code",
   "execution_count": null,
   "id": "c240351c",
   "metadata": {},
   "outputs": [],
   "source": []
  }
 ],
 "metadata": {
  "kernelspec": {
   "display_name": "Python 3 (ipykernel)",
   "language": "python",
   "name": "python3"
  },
  "language_info": {
   "codemirror_mode": {
    "name": "ipython",
    "version": 3
   },
   "file_extension": ".py",
   "mimetype": "text/x-python",
   "name": "python",
   "nbconvert_exporter": "python",
   "pygments_lexer": "ipython3",
   "version": "3.9.7"
  }
 },
 "nbformat": 4,
 "nbformat_minor": 5
}
